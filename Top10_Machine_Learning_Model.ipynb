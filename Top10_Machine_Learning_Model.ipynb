{
  "nbformat": 4,
  "nbformat_minor": 0,
  "metadata": {
    "colab": {
      "provenance": [],
      "authorship_tag": "ABX9TyOHo3B5NeTyt2wqU9VtlR0A",
      "include_colab_link": true
    },
    "kernelspec": {
      "name": "python3",
      "display_name": "Python 3"
    },
    "language_info": {
      "name": "python"
    }
  },
  "cells": [
    {
      "cell_type": "markdown",
      "metadata": {
        "id": "view-in-github",
        "colab_type": "text"
      },
      "source": [
        "<a href=\"https://colab.research.google.com/github/mch60131242/Home/blob/main/Top10_Machine_Learning_Model.ipynb\" target=\"_parent\"><img src=\"https://colab.research.google.com/assets/colab-badge.svg\" alt=\"Open In Colab\"/></a>"
      ]
    },
    {
      "cell_type": "code",
      "execution_count": 99,
      "metadata": {
        "id": "sXX5gVrTq7b5"
      },
      "outputs": [],
      "source": [
        "from sklearn.model_selection import train_test_split, cross_val_score,StratifiedKFold\n",
        "from matplotlib import pyplot\n",
        "from sklearn.preprocessing import StandardScaler\n",
        "import pandas as pd\n",
        "import matplotlib.pyplot as plt\n",
        "from sklearn.tree import DecisionTreeClassifier\n",
        "from sklearn.tree import plot_tree\n",
        "from sklearn.ensemble import RandomForestClassifier\n",
        "from sklearn.naive_bayes import GaussianNB\n",
        "from sklearn.neighbors import KNeighborsClassifier\n",
        "from sklearn.ensemble import AdaBoostClassifier\n",
        "from sklearn.discriminant_analysis import QuadraticDiscriminantAnalysis\n",
        "from sklearn.svm import SVC\n",
        "from sklearn.ensemble import VotingClassifier\n",
        "from sklearn.ensemble import BaggingClassifier"
      ]
    },
    {
      "cell_type": "code",
      "source": [
        "!git clone https://github.com/taehojo/data.git\n",
        "\n",
        "df = pd.read_csv('./data/pima-indians-diabetes3.csv')"
      ],
      "metadata": {
        "colab": {
          "base_uri": "https://localhost:8080/"
        },
        "id": "s-mYJz2GuCMV",
        "outputId": "28a285b9-a55f-496d-8cc5-d2e7f954ecc5"
      },
      "execution_count": 82,
      "outputs": [
        {
          "output_type": "stream",
          "name": "stdout",
          "text": [
            "fatal: destination path 'data' already exists and is not an empty directory.\n"
          ]
        }
      ]
    },
    {
      "cell_type": "code",
      "source": [
        "print(df.head())\n",
        "print(df.info())\n",
        "df.columns"
      ],
      "metadata": {
        "colab": {
          "base_uri": "https://localhost:8080/"
        },
        "id": "bRO-pAqdutdL",
        "outputId": "911470b2-aa0c-4e18-923c-a3d1237c2d4d"
      },
      "execution_count": 83,
      "outputs": [
        {
          "output_type": "stream",
          "name": "stdout",
          "text": [
            "   pregnant  plasma  pressure  thickness  insulin   bmi  pedigree  age  \\\n",
            "0         6     148        72         35        0  33.6     0.627   50   \n",
            "1         1      85        66         29        0  26.6     0.351   31   \n",
            "2         8     183        64          0        0  23.3     0.672   32   \n",
            "3         1      89        66         23       94  28.1     0.167   21   \n",
            "4         0     137        40         35      168  43.1     2.288   33   \n",
            "\n",
            "   diabetes  \n",
            "0         1  \n",
            "1         0  \n",
            "2         1  \n",
            "3         0  \n",
            "4         1  \n",
            "<class 'pandas.core.frame.DataFrame'>\n",
            "RangeIndex: 768 entries, 0 to 767\n",
            "Data columns (total 9 columns):\n",
            " #   Column     Non-Null Count  Dtype  \n",
            "---  ------     --------------  -----  \n",
            " 0   pregnant   768 non-null    int64  \n",
            " 1   plasma     768 non-null    int64  \n",
            " 2   pressure   768 non-null    int64  \n",
            " 3   thickness  768 non-null    int64  \n",
            " 4   insulin    768 non-null    int64  \n",
            " 5   bmi        768 non-null    float64\n",
            " 6   pedigree   768 non-null    float64\n",
            " 7   age        768 non-null    int64  \n",
            " 8   diabetes   768 non-null    int64  \n",
            "dtypes: float64(2), int64(7)\n",
            "memory usage: 54.1 KB\n",
            "None\n"
          ]
        },
        {
          "output_type": "execute_result",
          "data": {
            "text/plain": [
              "Index(['pregnant', 'plasma', 'pressure', 'thickness', 'insulin', 'bmi',\n",
              "       'pedigree', 'age', 'diabetes'],\n",
              "      dtype='object')"
            ]
          },
          "metadata": {},
          "execution_count": 83
        }
      ]
    },
    {
      "cell_type": "code",
      "source": [
        "X =df.iloc[:,0:8] ## test data\n",
        "y =df.iloc[:,8]  ## target data\n",
        "print(X)\n",
        "print(Y)"
      ],
      "metadata": {
        "colab": {
          "base_uri": "https://localhost:8080/"
        },
        "id": "JEz2jy99u0yT",
        "outputId": "d6fb0ebc-11ad-44e3-f0df-5404d54cad18"
      },
      "execution_count": 84,
      "outputs": [
        {
          "output_type": "stream",
          "name": "stdout",
          "text": [
            "     pregnant  plasma  pressure  thickness  insulin   bmi  pedigree  age\n",
            "0           6     148        72         35        0  33.6     0.627   50\n",
            "1           1      85        66         29        0  26.6     0.351   31\n",
            "2           8     183        64          0        0  23.3     0.672   32\n",
            "3           1      89        66         23       94  28.1     0.167   21\n",
            "4           0     137        40         35      168  43.1     2.288   33\n",
            "..        ...     ...       ...        ...      ...   ...       ...  ...\n",
            "763        10     101        76         48      180  32.9     0.171   63\n",
            "764         2     122        70         27        0  36.8     0.340   27\n",
            "765         5     121        72         23      112  26.2     0.245   30\n",
            "766         1     126        60          0        0  30.1     0.349   47\n",
            "767         1      93        70         31        0  30.4     0.315   23\n",
            "\n",
            "[768 rows x 8 columns]\n",
            "0      1\n",
            "1      0\n",
            "2      1\n",
            "3      0\n",
            "4      1\n",
            "      ..\n",
            "763    0\n",
            "764    0\n",
            "765    0\n",
            "766    1\n",
            "767    0\n",
            "Name: diabetes, Length: 768, dtype: int64\n"
          ]
        }
      ]
    },
    {
      "cell_type": "code",
      "source": [
        "ss =StandardScaler()\n",
        "scaled_X = pd.DataFrame(ss.fit_transform(X), columns=X.columns)\n",
        "print(scaled_X)"
      ],
      "metadata": {
        "colab": {
          "base_uri": "https://localhost:8080/"
        },
        "id": "5hzw41F_vIKr",
        "outputId": "4b500825-c5e0-451d-b04f-eaef7c3ffec0"
      },
      "execution_count": 85,
      "outputs": [
        {
          "output_type": "stream",
          "name": "stdout",
          "text": [
            "     pregnant    plasma  pressure  thickness   insulin       bmi  pedigree  \\\n",
            "0    0.639947  0.848324  0.149641   0.907270 -0.692891  0.204013  0.468492   \n",
            "1   -0.844885 -1.123396 -0.160546   0.530902 -0.692891 -0.684422 -0.365061   \n",
            "2    1.233880  1.943724 -0.263941  -1.288212 -0.692891 -1.103255  0.604397   \n",
            "3   -0.844885 -0.998208 -0.160546   0.154533  0.123302 -0.494043 -0.920763   \n",
            "4   -1.141852  0.504055 -1.504687   0.907270  0.765836  1.409746  5.484909   \n",
            "..        ...       ...       ...        ...       ...       ...       ...   \n",
            "763  1.827813 -0.622642  0.356432   1.722735  0.870031  0.115169 -0.908682   \n",
            "764 -0.547919  0.034598  0.046245   0.405445 -0.692891  0.610154 -0.398282   \n",
            "765  0.342981  0.003301  0.149641   0.154533  0.279594 -0.735190 -0.685193   \n",
            "766 -0.844885  0.159787 -0.470732  -1.288212 -0.692891 -0.240205 -0.371101   \n",
            "767 -0.844885 -0.873019  0.046245   0.656358 -0.692891 -0.202129 -0.473785   \n",
            "\n",
            "          age  \n",
            "0    1.425995  \n",
            "1   -0.190672  \n",
            "2   -0.105584  \n",
            "3   -1.041549  \n",
            "4   -0.020496  \n",
            "..        ...  \n",
            "763  2.532136  \n",
            "764 -0.531023  \n",
            "765 -0.275760  \n",
            "766  1.170732  \n",
            "767 -0.871374  \n",
            "\n",
            "[768 rows x 8 columns]\n"
          ]
        }
      ]
    },
    {
      "cell_type": "code",
      "source": [
        "fig, ax = plt.subplots(1,2, figsize=(12,4))\n",
        "X.plot(kind='kde', ax=ax[0])\n",
        "scaled_X.plot(kind='kde',ax=ax[1])"
      ],
      "metadata": {
        "colab": {
          "base_uri": "https://localhost:8080/",
          "height": 283
        },
        "id": "0RB9nYS1vSer",
        "outputId": "9d667b2a-53ed-4f92-b062-7b16d8fe663b"
      },
      "execution_count": 86,
      "outputs": [
        {
          "output_type": "execute_result",
          "data": {
            "text/plain": [
              "<AxesSubplot:ylabel='Density'>"
            ]
          },
          "metadata": {},
          "execution_count": 86
        },
        {
          "output_type": "display_data",
          "data": {
            "text/plain": [
              "<Figure size 864x288 with 2 Axes>"
            ],
            "image/png": "[encoded data removed]"
          },
          "metadata": {
            "needs_background": "light"
          }
        }
      ]
    },
    {
      "cell_type": "code",
      "source": [
        "X_train, X_test, y_train,y_test = train_test_split(scaled_X, y, test_size=0.25, random_state=0)"
      ],
      "metadata": {
        "id": "gPDBKyKrvrb1"
      },
      "execution_count": 87,
      "outputs": []
    },
    {
      "cell_type": "code",
      "source": [
        "\n",
        "##### 결정 트리#####\n",
        "\n",
        "\n",
        "classifier =DecisionTreeClassifier()\n",
        "classifier.fit(X_train,y_train)\n",
        "\n",
        "y_pred= classifier.predict(X_test)\n",
        "\n",
        "skf =StratifiedKFold(n_splits=10, shuffle=True)\n",
        "accuracies = cross_val_score(estimator=classifier, X=X_train, y=y_train, cv=skf)\n"
      ],
      "metadata": {
        "id": "dD-DHG99xIDj"
      },
      "execution_count": 88,
      "outputs": []
    },
    {
      "cell_type": "code",
      "source": [
        "plt.figure(figsize=(10,7)) ## matplotlib으로 사이즈 지정\n",
        "plot_tree(classifier,max_depth=2, filled=True, feature_names=['pregnant', 'plasma', 'pressure', 'thickness', 'insulin', 'bmi','pedigree', 'age', 'diabetes']) ## 특성의 이름을 정해주는 이유는 우리가 처음에 numpy로 만들어서 이름이 없는 상태로 숫자로만 특성이 이루어 졌기 때문\n",
        "plt.show()"
      ],
      "metadata": {
        "colab": {
          "base_uri": "https://localhost:8080/",
          "height": 411
        },
        "id": "Gyl9yrNdzN_w",
        "outputId": "41078f96-c9a3-45ba-bd0a-e1729b5d9513"
      },
      "execution_count": 89,
      "outputs": [
        {
          "output_type": "display_data",
          "data": {
            "text/plain": [
              "<Figure size 720x504 with 1 Axes>"
            ],
            "image/png": "[encoded data removed]"
          },
          "metadata": {
            "needs_background": "light"
          }
        }
      ]
    },
    {
      "cell_type": "code",
      "source": [
        "print(accuracies.mean())\n",
        "print(accuracies.std())"
      ],
      "metadata": {
        "colab": {
          "base_uri": "https://localhost:8080/"
        },
        "id": "2rVWGQHRz4ok",
        "outputId": "53bce1f1-905d-4362-bd8f-690c3e4c040f"
      },
      "execution_count": 90,
      "outputs": [
        {
          "output_type": "stream",
          "name": "stdout",
          "text": [
            "0.6771022383545069\n",
            "0.04182161246625684\n"
          ]
        }
      ]
    },
    {
      "cell_type": "code",
      "source": [
        "##### 랜덤 포레스트 ####\n",
        "\n",
        "classifier =RandomForestClassifier()\n",
        "\n",
        "classifier.fit(X_train, y_train)## 트레인 데이터 타겟 데이터\n",
        "\n",
        "y_pred =classifier.predict(X_test)\n",
        "\n",
        "skf =StratifiedKFold(n_splits=10, shuffle=True)\n",
        "\n",
        "accuracies = cross_val_score(estimator = classifier, X=X_train, y=y_train, cv =skf)\n",
        "\n",
        "print(accuracies.mean())\n",
        "print(accuracies.std())\n",
        "                     "
      ],
      "metadata": {
        "colab": {
          "base_uri": "https://localhost:8080/"
        },
        "id": "fextmtGq0bCN",
        "outputId": "284bb9f9-0740-43ef-a567-f849b80d3d67"
      },
      "execution_count": 91,
      "outputs": [
        {
          "output_type": "stream",
          "name": "stdout",
          "text": [
            "0.7502117362371445\n",
            "0.0742582516729268\n"
          ]
        }
      ]
    },
    {
      "cell_type": "code",
      "source": [
        "##### 가우시안 나이브 베이즈 분류기 #####\n",
        "## 베이즈 정리란 조건부 확률을 계산 이전의 경험과 현재의 정보를 근거로 확률을 구해가는 과정\n",
        "## 예측한 속성들이 상호 독립적일 때 이를 나이브 베이즈 분류 라고 한다##\n",
        "\n",
        "\n",
        "classifier =GaussianNB()\n",
        "\n",
        "classifier.fit(X_train,y_train)\n",
        "\n",
        "y_pred = classifier.predict(X_test)\n",
        "\n",
        "skf =StratifiedKFold(n_splits=10, shuffle=True)\n",
        "\n",
        "accuracies =cross_val_score(estimator = classifier, X=X_train, y=y_train, cv= skf)\n",
        "\n",
        "print(accuracies.mean())\n",
        "print(accuracies.std())"
      ],
      "metadata": {
        "colab": {
          "base_uri": "https://localhost:8080/"
        },
        "id": "jU7pgqaM5ZED",
        "outputId": "d706ec0d-9bed-4ac3-f7e7-9b3fc1fc36ad"
      },
      "execution_count": 92,
      "outputs": [
        {
          "output_type": "stream",
          "name": "stdout",
          "text": [
            "0.7482758620689655\n",
            "0.044589705957828595\n"
          ]
        }
      ]
    },
    {
      "cell_type": "code",
      "source": [
        "### k-최근접 이웃\n",
        "\n",
        "classifier = KNeighborsClassifier()\n",
        "\n",
        "classifier.fit(X_train,y_train)\n",
        "\n",
        "y_pred = classifier.predict(X_test)\n",
        "\n",
        "skf =StratifiedKFold(n_splits=10, shuffle=True)\n",
        "\n",
        "accuracies = cross_val_score(estimator=classifier, X=X_train, y=y_train, cv=skf)\n",
        "\n",
        "print(accuracies.mean())\n",
        "print(accuracies.std())"
      ],
      "metadata": {
        "colab": {
          "base_uri": "https://localhost:8080/"
        },
        "id": "ubXZ73C06Dx9",
        "outputId": "9e464e34-1794-40bc-b8d7-da43597d47bd"
      },
      "execution_count": 93,
      "outputs": [
        {
          "output_type": "stream",
          "name": "stdout",
          "text": [
            "0.7274954627949184\n",
            "0.052899729599104967\n"
          ]
        }
      ]
    },
    {
      "cell_type": "code",
      "source": [
        "## 에이다 부스트 분류##\n",
        "\n",
        "\n",
        "classifier =AdaBoostClassifier()\n",
        "\n",
        "classifier.fit(X_train,y_train)\n",
        "\n",
        "y_pred =classifier.predict(X_test)\n",
        "\n",
        "skf =StratifiedKFold(n_splits=10, shuffle=True)\n",
        "\n",
        "accuracies = cross_val_score(estimator=classifier, X=X_train, y=y_train, cv=skf)\n",
        "\n",
        "print(accuracies.mean())\n",
        "print(accuracies.std())"
      ],
      "metadata": {
        "colab": {
          "base_uri": "https://localhost:8080/"
        },
        "id": "Gcu-3F65_gim",
        "outputId": "72267c9f-199a-4c29-83f4-546d9492df6d"
      },
      "execution_count": 94,
      "outputs": [
        {
          "output_type": "stream",
          "name": "stdout",
          "text": [
            "0.7327586206896551\n",
            "0.042651712078366724\n"
          ]
        }
      ]
    },
    {
      "cell_type": "code",
      "source": [
        "## 이차 판별 분석 분류##\n",
        "\n",
        "## 불순도, 정보이득 ,약학습,강학습. 가중치의 개념이 들어감\n",
        "\n",
        "classifier = QuadraticDiscriminantAnalysis()\n",
        "\n",
        "\n",
        "classifier.fit(X_train,y_train)\n",
        "\n",
        "y_pred = classifier.predict(X_test)\n",
        "\n",
        "skf =StratifiedKFold(n_splits=10, shuffle=True)\n",
        "\n",
        "accuracies = cross_val_score(estimator=classifier, X=X_train, y=y_train, cv=skf)\n",
        "\n",
        "print(accuracies.mean())\n",
        "print(accuracies.std())\n",
        "\n"
      ],
      "metadata": {
        "colab": {
          "base_uri": "https://localhost:8080/"
        },
        "id": "bVqlzdFjDQoG",
        "outputId": "552eb6e8-27ae-4ea1-ff8d-d6518f70f1ad"
      },
      "execution_count": 95,
      "outputs": [
        {
          "output_type": "stream",
          "name": "stdout",
          "text": [
            "0.7258015728977616\n",
            "0.051464920770588125\n"
          ]
        }
      ]
    },
    {
      "cell_type": "code",
      "source": [
        "classifier=SVC(kernel='linear')\n",
        "\n",
        "classifier.fit(X_train,y_train)\n",
        "\n",
        "y_pred = classifier.predict(X_test)\n",
        "\n",
        "skf =StratifiedKFold(n_splits=10, shuffle=True)\n",
        "\n",
        "accuracies = cross_val_score(estimator=classifier, X=X_train, y=y_train, cv=skf)\n",
        "\n",
        "print(accuracies.mean())\n",
        "print(accuracies.std())"
      ],
      "metadata": {
        "colab": {
          "base_uri": "https://localhost:8080/"
        },
        "id": "ya8dapvLGFPO",
        "outputId": "ddbd098f-b75b-462d-9c9c-f8aa38934998"
      },
      "execution_count": 96,
      "outputs": [
        {
          "output_type": "stream",
          "name": "stdout",
          "text": [
            "0.7555656382335147\n",
            "0.06624353258275975\n"
          ]
        }
      ]
    },
    {
      "cell_type": "code",
      "source": [
        "classifier = SVC(kernel='rbf')\n",
        "\n",
        "classifier.fit(X_train,y_train)\n",
        "\n",
        "y_pred = classifier.predict(X_test)\n",
        "\n",
        "skf =StratifiedKFold(n_splits=10, shuffle=True)\n",
        "\n",
        "accuracies = cross_val_score(estimator=classifier, X=X_train, y=y_train, cv=skf)\n",
        "\n",
        "print(accuracies.mean())\n",
        "print(accuracies.std())"
      ],
      "metadata": {
        "colab": {
          "base_uri": "https://localhost:8080/"
        },
        "id": "z8fKzLAZLk3e",
        "outputId": "c91ecfbc-8ba5-4a91-8d9c-7a0fc1490ed0"
      },
      "execution_count": 97,
      "outputs": [
        {
          "output_type": "stream",
          "name": "stdout",
          "text": [
            "0.7691167574107683\n",
            "0.047827880881271954\n"
          ]
        }
      ]
    },
    {
      "cell_type": "code",
      "source": [
        "clf1 =AdaBoostClassifier()\n",
        "clf2 = RandomForestClassifier()\n",
        "clf3 = SVC(kernel='linear')\n",
        "\n",
        "\n",
        "classifier = VotingClassifier(estimators=[('lr',clf1),('rf',clf2),('gnb',clf3)])\n",
        "\n",
        "classifier.fit(X_train,y_train)\n",
        "y_pred = classifier.predict(X_test)\n",
        "\n",
        "skf =StratifiedKFold(n_splits=10, shuffle=True)\n",
        "\n",
        "accuracies = cross_val_score(estimator=classifier, X=X_train, y=y_train, cv=skf)\n",
        "\n",
        "print(accuracies.mean())\n",
        "print(accuracies.std())"
      ],
      "metadata": {
        "colab": {
          "base_uri": "https://localhost:8080/"
        },
        "id": "XwnW_PwRQZvf",
        "outputId": "bc635b92-2969-41f3-b7f3-e03c3a4eb225"
      },
      "execution_count": 98,
      "outputs": [
        {
          "output_type": "stream",
          "name": "stdout",
          "text": [
            "0.7381730187537809\n",
            "0.05654363282482132\n"
          ]
        }
      ]
    },
    {
      "cell_type": "code",
      "source": [
        "classifier = BaggingClassifier(base_estimator =SVC(kernel='rbf'), n_estimators=10)\n",
        "\n",
        "classifier.fit(X_train,y_train)\n",
        "\n",
        "y_preb = classifier.predict(X_test)\n",
        "\n",
        "skf =StratifiedKFold(n_splits=10, shuffle=True)\n",
        "\n",
        "accuracies = cross_val_score(estimator=classifier, X=X_train, y=y_train, cv=skf)\n",
        "\n",
        "print(accuracies.mean())\n",
        "print(accuracies.std())"
      ],
      "metadata": {
        "colab": {
          "base_uri": "https://localhost:8080/"
        },
        "id": "DBEKfzeBsUGu",
        "outputId": "d60ce7d3-95c0-4e3c-e175-6b7fde999426"
      },
      "execution_count": 102,
      "outputs": [
        {
          "output_type": "stream",
          "name": "stderr",
          "text": [
            "/usr/local/lib/python3.9/dist-packages/sklearn/ensemble/_base.py:166: FutureWarning: `base_estimator` was renamed to `estimator` in version 1.2 and will be removed in 1.4.\n",
            "  warnings.warn(\n",
            "/usr/local/lib/python3.9/dist-packages/sklearn/ensemble/_base.py:166: FutureWarning: `base_estimator` was renamed to `estimator` in version 1.2 and will be removed in 1.4.\n",
            "  warnings.warn(\n",
            "/usr/local/lib/python3.9/dist-packages/sklearn/ensemble/_base.py:166: FutureWarning: `base_estimator` was renamed to `estimator` in version 1.2 and will be removed in 1.4.\n",
            "  warnings.warn(\n",
            "/usr/local/lib/python3.9/dist-packages/sklearn/ensemble/_base.py:166: FutureWarning: `base_estimator` was renamed to `estimator` in version 1.2 and will be removed in 1.4.\n",
            "  warnings.warn(\n",
            "/usr/local/lib/python3.9/dist-packages/sklearn/ensemble/_base.py:166: FutureWarning: `base_estimator` was renamed to `estimator` in version 1.2 and will be removed in 1.4.\n",
            "  warnings.warn(\n",
            "/usr/local/lib/python3.9/dist-packages/sklearn/ensemble/_base.py:166: FutureWarning: `base_estimator` was renamed to `estimator` in version 1.2 and will be removed in 1.4.\n",
            "  warnings.warn(\n",
            "/usr/local/lib/python3.9/dist-packages/sklearn/ensemble/_base.py:166: FutureWarning: `base_estimator` was renamed to `estimator` in version 1.2 and will be removed in 1.4.\n",
            "  warnings.warn(\n",
            "/usr/local/lib/python3.9/dist-packages/sklearn/ensemble/_base.py:166: FutureWarning: `base_estimator` was renamed to `estimator` in version 1.2 and will be removed in 1.4.\n",
            "  warnings.warn(\n",
            "/usr/local/lib/python3.9/dist-packages/sklearn/ensemble/_base.py:166: FutureWarning: `base_estimator` was renamed to `estimator` in version 1.2 and will be removed in 1.4.\n",
            "  warnings.warn(\n",
            "/usr/local/lib/python3.9/dist-packages/sklearn/ensemble/_base.py:166: FutureWarning: `base_estimator` was renamed to `estimator` in version 1.2 and will be removed in 1.4.\n",
            "  warnings.warn(\n",
            "/usr/local/lib/python3.9/dist-packages/sklearn/ensemble/_base.py:166: FutureWarning: `base_estimator` was renamed to `estimator` in version 1.2 and will be removed in 1.4.\n",
            "  warnings.warn(\n"
          ]
        },
        {
          "output_type": "stream",
          "name": "stdout",
          "text": [
            "0.7535087719298246\n",
            "0.05693294707379573\n"
          ]
        }
      ]
    },
    {
      "cell_type": "code",
      "source": [
        "classifiers=[DecisionTreeClassifier(),RandomForestClassifier(),GaussianNB(),KNeighborsClassifier(),SVC(kernel='linear'),SVC(kernel='rbf'),AdaBoostClassifier(),QuadraticDiscriminantAnalysis(),\n",
        "             VotingClassifier(estimators=[('1',AdaBoostClassifier()),('2',RandomForestClassifier()),('3',SVC(kernel='linear'))]),BaggingClassifier(base_estimator =clf3, n_estimators=10,random_state=0)]\n",
        "      \n",
        "classifier_names = ['D_tree', 'RF','GNB', 'KNN','Ada','QDA','SVM_1','SVM_k','Voting','Bagging']\n",
        "\n",
        "modelaccuracies = []\n",
        "modelmeans= []\n",
        "modelnames = []\n",
        "\n",
        "classifier_data = zip(classifier_names,classifiers)\n",
        "for classifier_name, classifier in classifier_data:\n",
        "  skf =StratifiedKFold(n_splits=10, shuffle=True)\n",
        "  accuracies = cross_val_score(classifier, X=X_train, y=y_train, cv = skf)\n",
        "  print(classifier_name,\":\",(accuracies.mean()))\n",
        "  modelaccuracies.append(accuracies)\n",
        "  modelnames.append(classifier_name)\n",
        "  modelmeans.append(accuracies.mean()*100)"
      ],
      "metadata": {
        "colab": {
          "base_uri": "https://localhost:8080/"
        },
        "id": "aHAVEj4bvfRH",
        "outputId": "893d3cf2-1d08-4a19-bcc2-e0b27b399e05"
      },
      "execution_count": 130,
      "outputs": [
        {
          "output_type": "stream",
          "name": "stdout",
          "text": [
            "D_tree : 0.6909860859044162\n",
            "RF : 0.7413490623109498\n",
            "GNB : 0.7501814882032667\n",
            "KNN : 0.7256200846944949\n",
            "Ada : 0.7603750756200847\n",
            "QDA : 0.7655172413793103\n",
            "SVM_1 : 0.7312462189957654\n",
            "SVM_k : 0.7346037507562009\n",
            "Voting : 0.7398971566848155\n"
          ]
        },
        {
          "output_type": "stream",
          "name": "stderr",
          "text": [
            "/usr/local/lib/python3.9/dist-packages/sklearn/ensemble/_base.py:166: FutureWarning: `base_estimator` was renamed to `estimator` in version 1.2 and will be removed in 1.4.\n",
            "  warnings.warn(\n",
            "/usr/local/lib/python3.9/dist-packages/sklearn/ensemble/_base.py:166: FutureWarning: `base_estimator` was renamed to `estimator` in version 1.2 and will be removed in 1.4.\n",
            "  warnings.warn(\n",
            "/usr/local/lib/python3.9/dist-packages/sklearn/ensemble/_base.py:166: FutureWarning: `base_estimator` was renamed to `estimator` in version 1.2 and will be removed in 1.4.\n",
            "  warnings.warn(\n",
            "/usr/local/lib/python3.9/dist-packages/sklearn/ensemble/_base.py:166: FutureWarning: `base_estimator` was renamed to `estimator` in version 1.2 and will be removed in 1.4.\n",
            "  warnings.warn(\n",
            "/usr/local/lib/python3.9/dist-packages/sklearn/ensemble/_base.py:166: FutureWarning: `base_estimator` was renamed to `estimator` in version 1.2 and will be removed in 1.4.\n",
            "  warnings.warn(\n",
            "/usr/local/lib/python3.9/dist-packages/sklearn/ensemble/_base.py:166: FutureWarning: `base_estimator` was renamed to `estimator` in version 1.2 and will be removed in 1.4.\n",
            "  warnings.warn(\n",
            "/usr/local/lib/python3.9/dist-packages/sklearn/ensemble/_base.py:166: FutureWarning: `base_estimator` was renamed to `estimator` in version 1.2 and will be removed in 1.4.\n",
            "  warnings.warn(\n",
            "/usr/local/lib/python3.9/dist-packages/sklearn/ensemble/_base.py:166: FutureWarning: `base_estimator` was renamed to `estimator` in version 1.2 and will be removed in 1.4.\n",
            "  warnings.warn(\n",
            "/usr/local/lib/python3.9/dist-packages/sklearn/ensemble/_base.py:166: FutureWarning: `base_estimator` was renamed to `estimator` in version 1.2 and will be removed in 1.4.\n",
            "  warnings.warn(\n"
          ]
        },
        {
          "output_type": "stream",
          "name": "stdout",
          "text": [
            "Bagging : 0.7639443436176648\n"
          ]
        },
        {
          "output_type": "stream",
          "name": "stderr",
          "text": [
            "/usr/local/lib/python3.9/dist-packages/sklearn/ensemble/_base.py:166: FutureWarning: `base_estimator` was renamed to `estimator` in version 1.2 and will be removed in 1.4.\n",
            "  warnings.warn(\n"
          ]
        }
      ]
    },
    {
      "cell_type": "code",
      "source": [
        "plt.figure(figsize=(10,5))\n",
        "plt.ylim([60,80])\n",
        "plt.bar(modelnames,modelmeans)\n"
      ],
      "metadata": {
        "colab": {
          "base_uri": "https://localhost:8080/",
          "height": 343
        },
        "id": "UiUxIefC2oP5",
        "outputId": "9feec0af-5bb8-4788-feec-4a90374f1b49"
      },
      "execution_count": 131,
      "outputs": [
        {
          "output_type": "execute_result",
          "data": {
            "text/plain": [
              "<BarContainer object of 10 artists>"
            ]
          },
          "metadata": {},
          "execution_count": 131
        },
        {
          "output_type": "display_data",
          "data": {
            "text/plain": [
              "<Figure size 720x360 with 1 Axes>"
            ],
            "image/png": "[encoded data removed]"
          },
          "metadata": {
            "needs_background": "light"
          }
        }
      ]
    },
    {
      "cell_type": "code",
      "source": [
        "fig =plt.figure(figsize=(10,5))\n",
        "ax =fig.add_subplot(111)\n",
        "ax.boxplot(modelaccuracies)\n",
        "ax.set_xticklabels(modelnames)\n",
        "plt.show()"
      ],
      "metadata": {
        "colab": {
          "base_uri": "https://localhost:8080/",
          "height": 321
        },
        "id": "fL6qJtVA24Ai",
        "outputId": "287c28ce-2813-4d86-950f-c47e365853a5"
      },
      "execution_count": 133,
      "outputs": [
        {
          "output_type": "display_data",
          "data": {
            "text/plain": [
              "<Figure size 720x360 with 1 Axes>"
            ],
            "image/png": "[encoded data removed]"
          },
          "metadata": {
            "needs_background": "light"
          }
        }
      ]
    }
  ]
}