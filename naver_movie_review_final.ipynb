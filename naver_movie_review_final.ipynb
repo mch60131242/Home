{
 "cells": [
  {
   "cell_type": "code",
   "execution_count": 1,
   "id": "2b2d44d0",
   "metadata": {},
   "outputs": [],
   "source": [
    "# import urllib.request\n",
    "\n",
    "# urllib.request.urlretrieve(\"https://raw.githubusercontent.com/e9t/nsmc/master/ratings_train.txt\", \n",
    "#                            filename=\"./data/ratings_train.txt\")\n",
    "# urllib.request.urlretrieve(\"https://raw.githubusercontent.com/e9t/nsmc/master/ratings_test.txt\", \n",
    "#                            filename=\"./data/ratings_test.txt\")"
   ]
  },
  {
   "cell_type": "code",
   "execution_count": null,
   "id": "4917d9fb",
   "metadata": {},
   "outputs": [],
   "source": [
    "# 데이터 전처리\n",
    "    # 1. 비어 있는 리뷰 처리\n",
    "    # 2. 한글외의 문자는 Nan 처리\n",
    "    # 3. 같은 리뷰 제거\n",
    "\n",
    "#  학습 데이터와 테스트 데이터로 정형화\n",
    "    # 4. x 와 y로 분리\n",
    "    # 5. 단어로 토큰 \n",
    "    # 6. 패딩\n",
    "    \n",
    "# 7. 모델 구조 설계\n",
    "# 8. 모델 실행"
   ]
  },
  {
   "cell_type": "code",
   "execution_count": 1,
   "id": "0469bd6b",
   "metadata": {},
   "outputs": [],
   "source": [
    "# 자연어 처리를 위한 keras 라이브러리 선언\n",
    "from tensorflow.keras.models import Sequential\n",
    "from tensorflow.keras.layers import Dense, LSTM, Conv1D, MaxPooling1D, Dropout, Embedding\n",
    "from tensorflow.keras.callbacks import EarlyStopping\n",
    "from tensorflow.keras.preprocessing.sequence import pad_sequences\n",
    "from tensorflow.keras.preprocessing.text import Tokenizer\n",
    "from attention import Attention\n",
    "\n",
    "import numpy as np\n",
    "import pandas as pd\n",
    "import matplotlib.pyplot as plt"
   ]
  },
  {
   "cell_type": "code",
   "execution_count": 2,
   "id": "ffa929db",
   "metadata": {},
   "outputs": [],
   "source": [
    "train_data = pd.read_table('./data/ratings_train.txt')\n",
    "test_data = pd.read_table('./data/ratings_test.txt')"
   ]
  },
  {
   "cell_type": "code",
   "execution_count": null,
   "id": "2d0e43da",
   "metadata": {},
   "outputs": [],
   "source": [
    "print(train_data['document'].isnull().sum())  # 리뷰가 없는 자료 확인 -  학습데이터\n",
    "train_data = train_data.dropna()               # 리뷰가 없는 행 삭제\n",
    "print(train_data['document'].isnull().sum())   # 리뷰 없는 행 제거 확인\n",
    "\n",
    "print(test_data['document'].isnull().sum())  # 리뷰가 없는 자료 확인 - 테스트 데이터\n",
    "test_data = test_data.dropna()               # 리뷰가 없는 행 삭제\n",
    "print(test_data['document'].isnull().sum())   # 리뷰 없는 행 제거 확인"
   ]
  },
  {
   "cell_type": "code",
   "execution_count": null,
   "id": "c9d0dbd4",
   "metadata": {},
   "outputs": [],
   "source": [
    "print(\"중복된 리뷰 갯수 : \", train_data['document'].duplicated().sum())  #  중복된 리뷰 갯수 확인\n",
    "train_data = train_data.drop_duplicates(subset=['document'])\n",
    "print(\"중복된 리뷰 갯수 : \", train_data['document'].duplicated().sum())  #  중복된 리뷰 갯수 확인\n",
    "\n",
    "print(\"중복된 리뷰 갯수 : \", test_data['document'].duplicated().sum())  #  중복된 리뷰 갯수 확인\n",
    "test_data = test_data.drop_duplicates(subset=['document'])\n",
    "print(\"중복된 리뷰 갯수 : \", test_data['document'].duplicated().sum())  #  중복된 리뷰 갯수 확인"
   ]
  },
  {
   "cell_type": "code",
   "execution_count": 17,
   "id": "f60d5f32",
   "metadata": {},
   "outputs": [],
   "source": [
    "# 한글과 space 외의 문자 : 정규표현식을 사용하여  ''  로 대체\n",
    "train_data['document'] = train_data['document'].str.replace(r'[^ㄱ-ㅎㅏ-ㅣ가-힣 \" \"]', '', regex=True)\n",
    "train_data['document'] = train_data['document'].replace('', np.nan) #  '' -> np.nan 으로 대체\n",
    "train_data.dropna(inplace=True)\n",
    "\n",
    "# test_data 처리\n",
    "test_data['document'] = test_data['document'].str.replace(r'[^ㄱ-ㅎㅏ-ㅣ가-힣 \" \"]', '', regex=True)\n",
    "test_data['document'] = test_data['document'].replace('', np.nan) #  '' -> np.nan 으로 대체\n",
    "test_data.dropna(inplace=True)"
   ]
  },
  {
   "cell_type": "code",
   "execution_count": 20,
   "id": "3e1692f9",
   "metadata": {},
   "outputs": [
    {
     "name": "stdout",
     "output_type": "stream",
     "text": [
      "        id                    document  label\n",
      "0  9976970           아 더빙 진짜 짜증나네요 목소리      0\n",
      "1  3819312  흠포스터보고 초딩영화줄오버연기조차 가볍지 않구나      1\n",
      "\n",
      "        id                          document  label\n",
      "0  6270596                               굳 ㅋ      1\n",
      "2  8544678  뭐야 이 평점들은 나쁘진 않지만 점 짜리는 더더욱 아니잖아      0\n"
     ]
    }
   ],
   "source": [
    "# 최종 자료 확인\n",
    "print(train_data.head(2))\n",
    "print()\n",
    "print(test_data.head(2))"
   ]
  },
  {
   "cell_type": "code",
   "execution_count": 21,
   "id": "bc8612e5",
   "metadata": {},
   "outputs": [],
   "source": [
    "# 학습 데이터를 x 와 label(y) 로 분리\n",
    "x_train = train_data['document']\n",
    "y_train = train_data['label']\n",
    "\n",
    "# 테스트 데이터를 x 와 label(y) 로 분리\n",
    "x_test = test_data['document']\n",
    "y_test = test_data['label']"
   ]
  },
  {
   "cell_type": "code",
   "execution_count": 31,
   "id": "40d025e5",
   "metadata": {},
   "outputs": [],
   "source": [
    "# 학습 데이터가 자연어이므로 단어로 토큰화 -> padding\n",
    "token_train = Tokenizer()\n",
    "token_train.fit_on_texts(x_train)\n",
    "train_padded = pad_sequences(token_train.texts_to_sequences(x_train), maxlen=20)\n",
    "\n",
    "# 테스트 데이터 토큰화 -> padding\n",
    "token_test = Tokenizer()\n",
    "token_test.fit_on_texts(x_test)\n",
    "test_padded = pad_sequences(token_test.texts_to_sequences(x_test), maxlen=20)"
   ]
  },
  {
   "cell_type": "code",
   "execution_count": 37,
   "id": "f5c81199",
   "metadata": {},
   "outputs": [],
   "source": [
    "word_size = len(token_train.word_index) + 1"
   ]
  },
  {
   "cell_type": "code",
   "execution_count": 39,
   "id": "72689824",
   "metadata": {},
   "outputs": [
    {
     "name": "stdout",
     "output_type": "stream",
     "text": [
      "Model: \"sequential_1\"\n",
      "_________________________________________________________________\n",
      " Layer (type)                Output Shape              Param #   \n",
      "=================================================================\n",
      " embedding_1 (Embedding)     (None, 20, 20)            5990360   \n",
      "                                                                 \n",
      " conv1d_1 (Conv1D)           (None, 16, 64)            6464      \n",
      "                                                                 \n",
      " dropout_1 (Dropout)         (None, 16, 64)            0         \n",
      "                                                                 \n",
      " max_pooling1d_1 (MaxPooling  (None, 4, 64)            0         \n",
      " 1D)                                                             \n",
      "                                                                 \n",
      " lstm_1 (LSTM)               (None, 4, 50)             23000     \n",
      "                                                                 \n",
      " attention_1 (Attention)     (None, 128)               15300     \n",
      "                                                                 \n",
      " dense_1 (Dense)             (None, 1)                 129       \n",
      "                                                                 \n",
      "=================================================================\n",
      "Total params: 6,035,253\n",
      "Trainable params: 6,035,253\n",
      "Non-trainable params: 0\n",
      "_________________________________________________________________\n"
     ]
    }
   ],
   "source": [
    "#   모델 설계\n",
    "model = Sequential()\n",
    "model.add(Embedding(word_size,20, input_length=20))\n",
    "model.add(Conv1D(64, 5, activation='relu'))\n",
    "model.add(Dropout(0.5))\n",
    "model.add(MaxPooling1D(pool_size=4))\n",
    "model.add(LSTM(50, return_sequences=True))\n",
    "model.add(Attention())\n",
    "model.add(Dense(1, activation='sigmoid'))\n",
    "\n",
    "model.summary()"
   ]
  },
  {
   "cell_type": "code",
   "execution_count": 40,
   "id": "dbfd2866",
   "metadata": {},
   "outputs": [
    {
     "name": "stdout",
     "output_type": "stream",
     "text": [
      "Epoch 1/100\n",
      "5468/5468 [==============================] - 351s 64ms/step - loss: 0.4545 - accuracy: 0.7711 - val_loss: 0.4044 - val_accuracy: 0.8069\n",
      "Epoch 2/100\n",
      "5468/5468 [==============================] - 352s 64ms/step - loss: 0.1618 - accuracy: 0.9404 - val_loss: 0.4841 - val_accuracy: 0.7912\n",
      "Epoch 3/100\n",
      "5468/5468 [==============================] - 343s 63ms/step - loss: 0.0663 - accuracy: 0.9777 - val_loss: 0.5977 - val_accuracy: 0.7839\n",
      "Epoch 4/100\n",
      "5468/5468 [==============================] - 339s 62ms/step - loss: 0.0356 - accuracy: 0.9882 - val_loss: 0.6428 - val_accuracy: 0.7810\n"
     ]
    }
   ],
   "source": [
    "#  모델 실행 옵션\n",
    "model.compile(loss='binary_crossentropy', optimizer='adam', metrics=['accuracy'])\n",
    "\n",
    "early_stopping = EarlyStopping(patience=3)\n",
    "\n",
    "# 모델 실행\n",
    "history = model.fit(train_padded, y_train, batch_size=20, epochs=100, \n",
    "                    validation_split=0.25,\n",
    "                   callbacks=[early_stopping])"
   ]
  },
  {
   "cell_type": "code",
   "execution_count": 41,
   "id": "3deff8db",
   "metadata": {},
   "outputs": [
    {
     "name": "stdout",
     "output_type": "stream",
     "text": [
      "1532/1532 [==============================] - 3s 2ms/step - loss: 2.0413 - accuracy: 0.4989\n",
      "Test Accuracy :  0.4988876283168793\n"
     ]
    }
   ],
   "source": [
    "# 테스트 데이터의 정확도 출력\n",
    "print(\"Test Accuracy : \", model.evaluate(test_padded, y_test)[1])"
   ]
  },
  {
   "cell_type": "code",
   "execution_count": 42,
   "id": "cf853b9e",
   "metadata": {},
   "outputs": [
    {
     "data": {
      "image/png": "[encoded data removed]",
      "text/plain": [
       "<Figure size 640x480 with 1 Axes>"
      ]
     },
     "metadata": {},
     "output_type": "display_data"
    }
   ],
   "source": [
    "#  학습셋과 테스트셋의 오차를 그래프로 확인\n",
    "y_loss = history.history['loss']\n",
    "y_vloss = history.history['val_loss']\n",
    "\n",
    "x_len = np.arange(len(y_loss))\n",
    "plt.plot(x_len, y_loss, c='red', label='train loss')\n",
    "plt.plot(x_len, y_vloss, c='blue', label='valid loss')\n",
    "plt.legend(loc='upper right')\n",
    "plt.xlabel('epoch')\n",
    "plt.ylabel('loss')\n",
    "plt.show()"
   ]
  },
  {
   "cell_type": "code",
   "execution_count": null,
   "id": "50013d54",
   "metadata": {},
   "outputs": [],
   "source": []
  }
 ],
 "metadata": {
  "kernelspec": {
   "display_name": "py3.8",
   "language": "python",
   "name": "py3.8"
  },
  "language_info": {
   "codemirror_mode": {
    "name": "ipython",
    "version": 3
   },
   "file_extension": ".py",
   "mimetype": "text/x-python",
   "name": "python",
   "nbconvert_exporter": "python",
   "pygments_lexer": "ipython3",
   "version": "3.8.16"
  }
 },
 "nbformat": 4,
 "nbformat_minor": 5
}
