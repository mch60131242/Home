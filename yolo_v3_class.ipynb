{
 "cells": [
  {
   "cell_type": "code",
   "execution_count": 1,
   "metadata": {},
   "outputs": [],
   "source": [
    "import sys\n",
    "import numpy as np\n",
    "import cv2"
   ]
  },
  {
   "cell_type": "code",
   "execution_count": 27,
   "metadata": {},
   "outputs": [
    {
     "name": "stdout",
     "output_type": "stream",
     "text": [
      "(300, 85)\n",
      "(1200, 85)\n",
      "(4800, 85)\n"
     ]
    }
   ],
   "source": [
    "img = cv2.imread('./kite.jpg')\n",
    "# img = cv2.imread('./peoples.jpg')\n",
    "\n",
    "# img = cv2.imread('./dog.jpg')\n",
    "\n",
    "\n",
    "if img is None:\n",
    "    print('image read failed')\n",
    "    sys.exit()\n",
    "    \n",
    "## model import\n",
    "model = './yolov3.weights'\n",
    "config = './yolov3.cfg' \n",
    "\n",
    "net = cv2.dnn.readNet(model, config)\n",
    "\n",
    "if net.empty():\n",
    "    print('model load failed')\n",
    "    sys.exit()\n",
    "\n",
    "## class names\n",
    "classNames = []\n",
    "with open('./coco.names', 'rt') as f:\n",
    "    classNames = f.read().rstrip('\\n').split('\\n')\n",
    "\n",
    "layer_names = net.getLayerNames()\n",
    "output_layers = [layer_names[i-1] for i in net.getUnconnectedOutLayers()]\n",
    "# print(output_layers)\n",
    "# print(layer_names)\n",
    "# display(classNames)\n",
    "# blobFromImage(image[, scalefactor[, size[, mean[, swapRB[, crop[, ddepth]]]]]]) -> retval\n",
    "blob = cv2.dnn.blobFromImage(img, 1/255., (320, 320), swapRB = True)\n",
    "net.setInput(blob)\n",
    "output = net.forward(output_layers)\n",
    "\n",
    "print(output[0].shape)\n",
    "print(output[1].shape)\n",
    "print(output[2].shape)\n",
    "\n",
    "colors = np.random.uniform(0, 255, size = (80, 3))\n",
    "# print(colors)\n",
    "\n",
    "h, w = img.shape[:2]\n",
    "\n",
    "class_ids = []\n",
    "confidences = []\n",
    "boxes = []\n",
    "\n",
    "for out in output:\n",
    "    for detection in out:\n",
    "        scores = detection[5:]\n",
    "        class_id = np.argmax(scores)\n",
    "        confidence = scores[class_id]\n",
    "        \n",
    "        if confidence > 0.5:\n",
    "            \n",
    "            cx = int(detection[0]*w)\n",
    "            cy = int(detection[1]*h)\n",
    "            bw = int(detection[2]*w)\n",
    "            bh = int(detection[3]*h)\n",
    "            \n",
    "            sx = int(cx - bw/2)\n",
    "            sy = int(cy - bh/2)\n",
    "            \n",
    "            boxes.append([sx, sy, bw, bh])\n",
    "            confidences.append(confidence)\n",
    "            class_ids.append(int(class_id))\n",
    "# indices = cv2.dnn.NMSBoxes(boxes, confidences, confThreshold, nmsThreshold)\n",
    "indices = cv2.dnn.NMSBoxes(boxes, confidences, 0.5, 0.6)            \n",
    "\n",
    "for i in indices:\n",
    "    sx, sy, bw, bh = boxes[i]\n",
    "    label = f'{classNames[class_ids[i]]}, {confidences[i]*100:.2f}%'  \n",
    "    color = colors[class_ids[i]]\n",
    "    cv2.rectangle(img, (sx, sy, bw, bh), color, 2)\n",
    "    cv2.putText(img, label, (sx, sy -6), cv2.FONT_HERSHEY_COMPLEX, 0.8,\n",
    "                color, 1, cv2.LINE_AA)\n",
    "    \n",
    "cv2.imshow('image', img)\n",
    "cv2.waitKey()\n",
    "cv2.destroyAllWindows()     \n",
    "# display(boxes)\n",
    "# display(indices)"
   ]
  }
 ],
 "metadata": {
  "kernelspec": {
   "display_name": "py3.8",
   "language": "python",
   "name": "python3"
  },
  "language_info": {
   "codemirror_mode": {
    "name": "ipython",
    "version": 3
   },
   "file_extension": ".py",
   "mimetype": "text/x-python",
   "name": "python",
   "nbconvert_exporter": "python",
   "pygments_lexer": "ipython3",
   "version": "3.8.16"
  },
  "orig_nbformat": 4
 },
 "nbformat": 4,
 "nbformat_minor": 2
}
