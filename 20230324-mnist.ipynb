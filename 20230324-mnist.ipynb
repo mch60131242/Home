{
 "cells": [
  {
   "cell_type": "code",
   "execution_count": 5,
   "id": "7329a0e9",
   "metadata": {},
   "outputs": [],
   "source": [
    "# %load deep_import.py\n",
    "from tensorflow.keras.models import Sequential\n",
    "from tensorflow.keras.layers import Dense, Flatten\n",
    "from tensorflow.keras.callbacks import EarlyStopping, ModelCheckpoint\n",
    "from tensorflow.keras.utils import to_categorical\n",
    "\n",
    "import matplotlib.pyplot as plt\n",
    "import pandas as pd\n",
    "import numpy as np\n"
   ]
  },
  {
   "cell_type": "code",
   "execution_count": 3,
   "id": "b494fb89",
   "metadata": {},
   "outputs": [],
   "source": [
    "# mnist  자료 가져옴\n",
    "from tensorflow.keras.datasets import mnist"
   ]
  },
  {
   "cell_type": "code",
   "execution_count": null,
   "id": "da4a58bf",
   "metadata": {},
   "outputs": [],
   "source": [
    "(X_train, y_train), (X_test, y_test) = mnist.load_data()"
   ]
  },
  {
   "cell_type": "code",
   "execution_count": 56,
   "id": "b0a5f78e",
   "metadata": {},
   "outputs": [],
   "source": [
    "X_train = X_train.astype('float64') /255\n",
    "X_test = X_test.astype('float64') /255"
   ]
  },
  {
   "cell_type": "code",
   "execution_count": null,
   "id": "3f13edab",
   "metadata": {},
   "outputs": [],
   "source": [
    "# 데이터 정규화,  카테고리 데이터 변환\n",
    "# 모델 설계, 모델 실행\n",
    "# 테스트 데이터로 모델 정확도 확인\n",
    "# 검증과 학습 손실함수의 결과를 그래프로 표현"
   ]
  },
  {
   "cell_type": "code",
   "execution_count": 57,
   "id": "70836d9f",
   "metadata": {},
   "outputs": [
    {
     "name": "stdout",
     "output_type": "stream",
     "text": [
      "Model: \"sequential_15\"\n",
      "_________________________________________________________________\n",
      " Layer (type)                Output Shape              Param #   \n",
      "=================================================================\n",
      " flatten_4 (Flatten)         (None, 784)               0         \n",
      "                                                                 \n",
      " dense_24 (Dense)            (None, 1024)              803840    \n",
      "                                                                 \n",
      " dense_25 (Dense)            (None, 10)                10250     \n",
      "                                                                 \n",
      "=================================================================\n",
      "Total params: 814,090\n",
      "Trainable params: 814,090\n",
      "Non-trainable params: 0\n",
      "_________________________________________________________________\n"
     ]
    }
   ],
   "source": [
    "model = Sequential(Flatten(input_shape=(28, 28)))\n",
    "model.add(Dense(1024,activation='relu'))\n",
    "model.add(Dense(10, activation='softmax'))\n",
    "\n",
    "model.compile(optimizer='adam',\n",
    "              loss='sparse_categorical_crossentropy',\n",
    "              metrics=['accuracy'])\n",
    "model.summary()"
   ]
  },
  {
   "cell_type": "code",
   "execution_count": null,
   "id": "35e2a9e6",
   "metadata": {},
   "outputs": [],
   "source": [
    "model = Sequential([\n",
    "    Flatten(input_shape=(28, 28)),\n",
    "    Dense(1024,activation='relu'),\n",
    "    (Dense(10, activation='softmax')] )"
   ]
  },
  {
   "cell_type": "code",
   "execution_count": 58,
   "id": "cb9faed1",
   "metadata": {},
   "outputs": [
    {
     "name": "stdout",
     "output_type": "stream",
     "text": [
      "Epoch 1/5\n",
      "1875/1875 [==============================] - 15s 8ms/step - loss: 0.1831 - accuracy: 0.9450\n",
      "Epoch 2/5\n",
      "1875/1875 [==============================] - 14s 8ms/step - loss: 0.0739 - accuracy: 0.9776\n",
      "Epoch 3/5\n",
      "1875/1875 [==============================] - 14s 7ms/step - loss: 0.0493 - accuracy: 0.9840\n",
      "Epoch 4/5\n",
      "1875/1875 [==============================] - 14s 8ms/step - loss: 0.0338 - accuracy: 0.9892\n",
      "Epoch 5/5\n",
      "1875/1875 [==============================] - 15s 8ms/step - loss: 0.0248 - accuracy: 0.9922\n"
     ]
    },
    {
     "data": {
      "text/plain": [
       "<keras.callbacks.History at 0x2518b280520>"
      ]
     },
     "execution_count": 58,
     "metadata": {},
     "output_type": "execute_result"
    }
   ],
   "source": [
    "model.fit(X_train, y_train, epochs=5)"
   ]
  },
  {
   "cell_type": "code",
   "execution_count": 59,
   "id": "bf202d06",
   "metadata": {},
   "outputs": [
    {
     "name": "stdout",
     "output_type": "stream",
     "text": [
      "313/313 [==============================] - 1s 2ms/step - loss: 0.0689 - accuracy: 0.9802\n",
      "테스트 정확도: 0.9801999926567078\n"
     ]
    }
   ],
   "source": [
    "#  정확도 평가\n",
    "test_loss, test_acc = model.evaluate(X_test, y_test)\n",
    "print('테스트 정확도:', test_acc)"
   ]
  },
  {
   "cell_type": "code",
   "execution_count": 60,
   "id": "77881b59",
   "metadata": {},
   "outputs": [
    {
     "name": "stdout",
     "output_type": "stream",
     "text": [
      "1875/1875 [==============================] - 14s 7ms/step - loss: 0.0210 - accuracy: 0.9931\n",
      "313/313 [==============================] - 1s 2ms/step - loss: 0.0731 - accuracy: 0.9811\n",
      "313/313 [==============================] - 1s 2ms/step - loss: 0.0731 - accuracy: 0.9811\n",
      "1875/1875 [==============================] - 14s 8ms/step - loss: 0.0163 - accuracy: 0.9944\n",
      "313/313 [==============================] - 1s 2ms/step - loss: 0.0906 - accuracy: 0.9770\n",
      "313/313 [==============================] - 1s 2ms/step - loss: 0.0906 - accuracy: 0.9770\n",
      "1875/1875 [==============================] - 13s 7ms/step - loss: 0.0159 - accuracy: 0.9944\n",
      "313/313 [==============================] - 1s 2ms/step - loss: 0.0791 - accuracy: 0.9821\n",
      "313/313 [==============================] - 1s 2ms/step - loss: 0.0791 - accuracy: 0.9821\n",
      "1875/1875 [==============================] - 15s 8ms/step - loss: 0.0121 - accuracy: 0.9958\n",
      "313/313 [==============================] - 1s 2ms/step - loss: 0.0849 - accuracy: 0.9835\n",
      "313/313 [==============================] - 1s 3ms/step - loss: 0.0849 - accuracy: 0.9835\n",
      "1875/1875 [==============================] - 14s 7ms/step - loss: 0.0117 - accuracy: 0.9960\n",
      "313/313 [==============================] - 1s 2ms/step - loss: 0.0996 - accuracy: 0.9799\n",
      "313/313 [==============================] - 1s 2ms/step - loss: 0.0996 - accuracy: 0.9799\n",
      "1875/1875 [==============================] - 14s 8ms/step - loss: 0.0118 - accuracy: 0.9962\n",
      "313/313 [==============================] - 1s 2ms/step - loss: 0.0853 - accuracy: 0.9825\n",
      "313/313 [==============================] - 1s 2ms/step - loss: 0.0853 - accuracy: 0.9825\n",
      "1875/1875 [==============================] - 15s 8ms/step - loss: 0.0106 - accuracy: 0.9966\n",
      "313/313 [==============================] - 1s 2ms/step - loss: 0.1165 - accuracy: 0.9785\n",
      "313/313 [==============================] - 1s 2ms/step - loss: 0.1165 - accuracy: 0.9785\n",
      "1875/1875 [==============================] - 14s 8ms/step - loss: 0.0104 - accuracy: 0.9966\n",
      "313/313 [==============================] - 1s 2ms/step - loss: 0.0978 - accuracy: 0.9801\n",
      "313/313 [==============================] - 1s 2ms/step - loss: 0.0978 - accuracy: 0.9801\n",
      "1875/1875 [==============================] - 14s 8ms/step - loss: 0.0082 - accuracy: 0.9974\n",
      "313/313 [==============================] - 1s 2ms/step - loss: 0.1036 - accuracy: 0.9813\n",
      "313/313 [==============================] - 1s 2ms/step - loss: 0.1036 - accuracy: 0.9813\n",
      "1875/1875 [==============================] - 14s 8ms/step - loss: 0.0074 - accuracy: 0.9973\n",
      "313/313 [==============================] - 1s 2ms/step - loss: 0.1384 - accuracy: 0.9775\n",
      "313/313 [==============================] - 1s 2ms/step - loss: 0.1384 - accuracy: 0.9775\n",
      "[0.9811000227928162, 0.9769999980926514, 0.9821000099182129, 0.9835000038146973, 0.9799000024795532, 0.9825000166893005, 0.9785000085830688, 0.9800999760627747, 0.9812999963760376, 0.9775000214576721]\n"
     ]
    }
   ],
   "source": [
    "loss, accuracy = [], []\n",
    "for i in range(10):\n",
    "    model.fit(X_train, y_train, epochs=1)\n",
    "    loss.append(model.evaluate(X_test, y_test)[0])\n",
    "    accuracy.append(model.evaluate(X_test, y_test)[1])\n",
    "\n",
    "print(accuracy)"
   ]
  },
  {
   "cell_type": "code",
   "execution_count": 61,
   "id": "ff3e61ba",
   "metadata": {},
   "outputs": [
    {
     "data": {
      "image/png": "[encoded data removed]",
      "text/plain": [
       "<Figure size 640x480 with 1 Axes>"
      ]
     },
     "metadata": {},
     "output_type": "display_data"
    }
   ],
   "source": [
    "x_len = np.arange(len(loss))\n",
    "plt.plot(x_len, loss, label='loss')\n",
    "plt.plot(x_len, accuracy, label='accuracy')\n",
    "plt.legend()\n",
    "plt.show()"
   ]
  },
  {
   "cell_type": "code",
   "execution_count": 62,
   "id": "85b691e7",
   "metadata": {},
   "outputs": [
    {
     "name": "stdout",
     "output_type": "stream",
     "text": [
      "Downloading data from https://storage.googleapis.com/tensorflow/tf-keras-datasets/train-labels-idx1-ubyte.gz\n",
      "29515/29515 [==============================] - 0s 0us/step\n",
      "Downloading data from https://storage.googleapis.com/tensorflow/tf-keras-datasets/train-images-idx3-ubyte.gz\n",
      "26421880/26421880 [==============================] - 2s 0us/step\n",
      "Downloading data from https://storage.googleapis.com/tensorflow/tf-keras-datasets/t10k-labels-idx1-ubyte.gz\n",
      "5148/5148 [==============================] - 0s 0s/step\n",
      "Downloading data from https://storage.googleapis.com/tensorflow/tf-keras-datasets/t10k-images-idx3-ubyte.gz\n",
      "4422102/4422102 [==============================] - 0s 0us/step\n"
     ]
    }
   ],
   "source": [
    "# 딥러닝 실행 후 테스트 정확도 결과 확인\n",
    "# 클래스 확인\n",
    "# 0 : T-shirt/top, 1 : Trouser, 2 : Pullover, 3 : Dress, 4 : Coat, 5 : Sandal\n",
    "# 6 : Shirt, 7 : Sneaker, 8 : Bag, 9 : Ankel boot\n",
    "from tensorflow.keras.datasets import fashion_mnist\n",
    "\n",
    "(X_train, y_train), (X_test, y_test) = fashion_mnist.load_data()\n"
   ]
  },
  {
   "cell_type": "code",
   "execution_count": 65,
   "id": "f629c9f8",
   "metadata": {},
   "outputs": [
    {
     "data": {
      "text/plain": [
       "<matplotlib.image.AxesImage at 0x251865ae0a0>"
      ]
     },
     "execution_count": 65,
     "metadata": {},
     "output_type": "execute_result"
    },
    {
     "data": {
      "image/png": "[encoded data removed]",
      "text/plain": [
       "<Figure size 640x480 with 1 Axes>"
      ]
     },
     "metadata": {},
     "output_type": "display_data"
    }
   ],
   "source": [
    "plt.imshow(X_train[1], cmap='Greys')"
   ]
  }
 ],
 "metadata": {
  "kernelspec": {
   "display_name": "py3.8",
   "language": "python",
   "name": "py3.8"
  },
  "language_info": {
   "codemirror_mode": {
    "name": "ipython",
    "version": 3
   },
   "file_extension": ".py",
   "mimetype": "text/x-python",
   "name": "python",
   "nbconvert_exporter": "python",
   "pygments_lexer": "ipython3",
   "version": "3.8.16"
  }
 },
 "nbformat": 4,
 "nbformat_minor": 5
}
