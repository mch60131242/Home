{
 "cells": [
  {
   "cell_type": "code",
   "execution_count": 4,
   "id": "c9cda4f2",
   "metadata": {},
   "outputs": [],
   "source": [
    "import numpy as np\n",
    "import os\n",
    "import sys\n",
    "import matplotlib.pyplot as plt\n",
    "import cv2\n",
    "import glob"
   ]
  },
  {
   "cell_type": "code",
   "execution_count": 31,
   "id": "38f763b8",
   "metadata": {},
   "outputs": [],
   "source": [
    "img =cv2.imread('./test/fig/puppy.bmp')\n",
    "if img is None:\n",
    "    print('1')\n",
    "    sys.exit()\n",
    "    \n",
    "img[h//2-100:h//2+50, w//2-100:w//2+200]=(0,0,0)\n",
    "cv2.imshow('1',img)\n",
    "cv2.waitKey()\n",
    "cv2.destroyAllWindows()"
   ]
  },
  {
   "cell_type": "code",
   "execution_count": 14,
   "id": "2570c949",
   "metadata": {},
   "outputs": [],
   "source": [
    "## 중앙의 픽셀값을 골라보기\n",
    "\n",
    "h,w = img.shape[:2]\n",
    "point1 = img[h//2:h//2+3,w//2:w//2+3]"
   ]
  },
  {
   "cell_type": "code",
   "execution_count": null,
   "id": "7f1c2bf9",
   "metadata": {},
   "outputs": [],
   "source": []
  },
  {
   "cell_type": "code",
   "execution_count": 15,
   "id": "8f6fa4f7",
   "metadata": {
    "scrolled": true
   },
   "outputs": [
    {
     "name": "stdout",
     "output_type": "stream",
     "text": [
      "image center value [[[  0  14  40]\n",
      "  [ 25  39  62]\n",
      "  [ 26  39  65]]\n",
      "\n",
      " [[  1  14  40]\n",
      "  [ 34  48  70]\n",
      "  [ 57  71  95]]\n",
      "\n",
      " [[ 61  74  98]\n",
      "  [ 94 108 130]\n",
      "  [100 114 137]]]\n"
     ]
    }
   ],
   "source": [
    "print('image center value',point1) ##B,G,R 순서 ## 사진에서 3x3의 픽셀 값을 뽑아낼 수 있다.\n"
   ]
  },
  {
   "cell_type": "code",
   "execution_count": 17,
   "id": "55b4dc05",
   "metadata": {},
   "outputs": [],
   "source": [
    "img[10:100, 50:200] =(0,0,255)  ## 세로방향 가로 방향 브로드 케스팅에 의해서 하나만 넣어도 3개다 바뀜"
   ]
  },
  {
   "cell_type": "code",
   "execution_count": 52,
   "id": "5b13f035",
   "metadata": {},
   "outputs": [],
   "source": [
    "## 판넬 만들기\n",
    "## 위의 img1 img2는 많이 쓰임\n",
    "img1 = np.ones((600,1000,3), dtype=np.uint8)*255 #가로 600 세로 1000 \n",
    "img2 = np.zeros((600,1000), dtype=np.uint8)## 흑백\n",
    "img3 = np.full((600,1000,3), (0,255,255), np.uint8) ## 색넣기\n",
    "img4 =np.random.randint(0,255, (600,1000),np.uint8) ## 노이즈 만들기\n",
    "\n",
    "\n",
    "cv2.imshow('V',img2)\n",
    "cv2.waitKey()\n",
    "cv2.destroyAllWindows()\n",
    "\n"
   ]
  },
  {
   "cell_type": "code",
   "execution_count": 68,
   "id": "d0faec64",
   "metadata": {},
   "outputs": [],
   "source": [
    "## 영상복사\n",
    "img = cv2.imread('./test/fig/fig/mask_plane.bmp')\n",
    "if img is None:\n",
    "    print('1')\n",
    "    sys.exit()\n",
    "img1 = img ## 주소를 카피하는것.\n",
    "img2 = img.copy() ## 실제 데이터를 카피하여  문제 발생을 없앤다 딥 카피라고 불린다.\n",
    "img1[40:80,100:200] =(255,0,255) ## call by reference 문제 발생 \n",
    "\n",
    "cv2.imshow('original',img)\n",
    "cv2.imshow('2',img1)\n",
    "cv2.imshow('3',img2)\n",
    "cv2.waitKey()\n",
    "cv2.destroyAllWindows()"
   ]
  },
  {
   "cell_type": "code",
   "execution_count": null,
   "id": "b8daaecf",
   "metadata": {},
   "outputs": [],
   "source": []
  },
  {
   "cell_type": "code",
   "execution_count": 97,
   "id": "e72ab0f3",
   "metadata": {},
   "outputs": [],
   "source": [
    "img = cv2.imread('./test/fig/puppy.bmp')\n",
    "if img is None:\n",
    "    print('1')\n",
    "    sys.exit()\n",
    "img1 = img[200:400, 300:500] ## 부분 CALL BY REPERENCE\n",
    "img2 = img[200:400, 300:500].copy() \n",
    "cv2.circle(img2,(100,100),100,(0,0,255),8,cv2.LINE_AA)\n",
    "cv2.imshow('original',img)\n",
    "cv2.imshow('1',img2)\n",
    "cv2.waitKey()\n",
    "cv2.destroyAllWindows()"
   ]
  },
  {
   "cell_type": "code",
   "execution_count": null,
   "id": "9319afa8",
   "metadata": {},
   "outputs": [],
   "source": []
  },
  {
   "cell_type": "code",
   "execution_count": null,
   "id": "a34524ee",
   "metadata": {},
   "outputs": [],
   "source": []
  },
  {
   "cell_type": "code",
   "execution_count": 129,
   "id": "12e31af9",
   "metadata": {},
   "outputs": [],
   "source": [
    "img = cv2.imread('./test/fig/fig/rudolf.png')\n",
    "if img is None:\n",
    "    print('1')\n",
    "    sys.exit()\n",
    "\n",
    "h,w =img.shape[:2]\n",
    "img1 = img[h//2-60:h//2+80,w//2-80:w//2+100]\n",
    "cv2.circle(img1,(90,85),65,(0,0,225),-1,cv2.LINE_AA)\n",
    "cv2.imshow('1', img)\n",
    "cv2.waitKey()\n",
    "cv2.destroyAllWindows()"
   ]
  },
  {
   "cell_type": "code",
   "execution_count": 149,
   "id": "7f7eeef4",
   "metadata": {},
   "outputs": [],
   "source": [
    "src = cv2.imread('./test/fig/fig/airplane.bmp')\n",
    "mask = cv2.imread('./test/fig/fig/mask_plane.bmp',0)\n",
    "dst = cv2.imread('./test/fig/fig/field.bmp')\n",
    "\n",
    "cv2.copyTo(src,mask,dst)           #mask 는 내가 관심있는 영역이 1인 binary 이미지\n",
    "cv2.imshow('src',src)\n",
    "cv2.imshow('mask',mask)\n",
    "cv2.imshow('dst',dst)\n",
    "\n",
    "cv2.waitKey()\n",
    "cv2.destroyAllWindows()"
   ]
  },
  {
   "cell_type": "code",
   "execution_count": 139,
   "id": "01874687",
   "metadata": {},
   "outputs": [
    {
     "name": "stdout",
     "output_type": "stream",
     "text": [
      "src shape= (400, 600, 3)\n",
      "mask shape= (400, 600)\n",
      "dst shape= (400, 600, 3)\n"
     ]
    }
   ],
   "source": [
    "print('src shape=',src.shape)\n",
    "print('mask shape=',mask.shape)\n",
    "print('dst shape=',dst.shape)"
   ]
  },
  {
   "cell_type": "code",
   "execution_count": 151,
   "id": "fd135dd2",
   "metadata": {},
   "outputs": [],
   "source": [
    "src = cv2.imread('./test/fig/fig/cow.png')\n",
    "dst = cv2.imread('./test/fig/fig/green.png')\n",
    "if src is None or dst is None:\n",
    "    print('1')\n",
    "    sys.exit()\n",
    "\n",
    "cv2.imshow('src',src)\n",
    "cv2.imshow('dst',dst)\n",
    "\n",
    "cv2.waitKey()\n",
    "cv2.destroyAllWindows()"
   ]
  },
  {
   "cell_type": "code",
   "execution_count": 145,
   "id": "c8c7872f",
   "metadata": {},
   "outputs": [],
   "source": [
    "h,w =src.shape[:2]"
   ]
  },
  {
   "cell_type": "code",
   "execution_count": 163,
   "id": "62e6f7be",
   "metadata": {},
   "outputs": [],
   "source": [
    "dst_resize =cv2.resize(dst, (w,h))\n",
    "src_gray = cv2.cvtColor(src,cv2.COLOR_BGR2GRAY)\n",
    "_,mask = cv2.threshold(src_gray, 240,255, cv2.THRESH_BINARY_INV)\n",
    "\n",
    "cv2.copyTo(src,mask,dst_resize)\n",
    "cv2.imshow('1',dst_resize)\n",
    "\n",
    "cv2.waitKey()\n",
    "cv2.destroyAllWindows()"
   ]
  }
 ],
 "metadata": {
  "kernelspec": {
   "display_name": "py3.8",
   "language": "python",
   "name": "py3.8"
  },
  "language_info": {
   "codemirror_mode": {
    "name": "ipython",
    "version": 3
   },
   "file_extension": ".py",
   "mimetype": "text/x-python",
   "name": "python",
   "nbconvert_exporter": "python",
   "pygments_lexer": "ipython3",
   "version": "3.8.16"
  }
 },
 "nbformat": 4,
 "nbformat_minor": 5
}
