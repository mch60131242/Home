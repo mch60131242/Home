{
 "cells": [
  {
   "cell_type": "markdown",
   "id": "47df0b41",
   "metadata": {},
   "source": [
    "# chap20 전이학습을 통한 딥러닝의 성능 극대화"
   ]
  },
  {
   "cell_type": "markdown",
   "id": "e5c40e02",
   "metadata": {},
   "source": [
    "## 1 .  소규모 데이터셋으로 만드는 강력한 학습모델"
   ]
  },
  {
   "cell_type": "code",
   "execution_count": 1,
   "id": "31229eff",
   "metadata": {},
   "outputs": [],
   "source": [
    "from tensorflow.keras.models import Sequential\n",
    "from tensorflow.keras.layers import Dense, Activation, Flatten, Dropout,\\\n",
    "                                    Conv2D, MaxPooling2D\n",
    "from tensorflow.keras.preprocessing.image import ImageDataGenerator\n",
    "from tensorflow.keras.callbacks import EarlyStopping\n",
    "from tensorflow.keras import optimizers\n",
    "\n",
    "import numpy as np\n",
    "import matplotlib.pyplot as plt"
   ]
  },
  {
   "cell_type": "code",
   "execution_count": 6,
   "id": "3d66ee54",
   "metadata": {},
   "outputs": [
    {
     "name": "stdout",
     "output_type": "stream",
     "text": [
      "Found 160 images belonging to 2 classes.\n",
      "Found 120 images belonging to 2 classes.\n"
     ]
    }
   ],
   "source": [
    "#  기존의 이미지의 갯수를 늘리는 작업 : 데이터 전처리\n",
    "train_datagen = ImageDataGenerator(rescale=1./255,   #  정규화\n",
    "                  horizontal_flip=True,              # 수평으로 뒤집기\n",
    "                  width_shift_range=0.1,             # 수평이동\n",
    "                  height_shift_range=0.1,            # 수직이동\n",
    "                  fill_mode='nearest')               # 빈 공간 채우는 방법\n",
    "\n",
    "train_genarator = train_datagen.flow_from_directory(\n",
    "                './data/chap20-data/train',           # 학습셋이 있는 폴더의 위치\n",
    "                target_size=(150,150),\n",
    "                batch_size=5,\n",
    "                class_mode='binary')\n",
    "\n",
    "test_datagen = ImageDataGenerator(rescale=1./255)  # 테스트셋은 정규화만\n",
    "test_generator = test_datagen.flow_from_directory(\n",
    "                './data/chap20-data/test',           # 학습셋이 있는 폴더의 위치\n",
    "                target_size=(150,150),\n",
    "                batch_size=5,\n",
    "                class_mode='binary')"
   ]
  },
  {
   "cell_type": "code",
   "execution_count": 4,
   "id": "28544c4c",
   "metadata": {},
   "outputs": [
    {
     "name": "stdout",
     "output_type": "stream",
     "text": [
      "Model: \"sequential\"\n",
      "_________________________________________________________________\n",
      " Layer (type)                Output Shape              Param #   \n",
      "=================================================================\n",
      " conv2d (Conv2D)             (None, 148, 148, 32)      896       \n",
      "                                                                 \n",
      " max_pooling2d (MaxPooling2D  (None, 74, 74, 32)       0         \n",
      " )                                                               \n",
      "                                                                 \n",
      " conv2d_1 (Conv2D)           (None, 72, 72, 32)        9248      \n",
      "                                                                 \n",
      " activation (Activation)     (None, 72, 72, 32)        0         \n",
      "                                                                 \n",
      " max_pooling2d_1 (MaxPooling  (None, 36, 36, 32)       0         \n",
      " 2D)                                                             \n",
      "                                                                 \n",
      " conv2d_2 (Conv2D)           (None, 34, 34, 64)        18496     \n",
      "                                                                 \n",
      " max_pooling2d_2 (MaxPooling  (None, 17, 17, 64)       0         \n",
      " 2D)                                                             \n",
      "                                                                 \n",
      " flatten (Flatten)           (None, 18496)             0         \n",
      "                                                                 \n",
      " dense (Dense)               (None, 64)                1183808   \n",
      "                                                                 \n",
      " dropout (Dropout)           (None, 64)                0         \n",
      "                                                                 \n",
      " dense_1 (Dense)             (None, 1)                 65        \n",
      "                                                                 \n",
      "=================================================================\n",
      "Total params: 1,212,513\n",
      "Trainable params: 1,212,513\n",
      "Non-trainable params: 0\n",
      "_________________________________________________________________\n"
     ]
    }
   ],
   "source": [
    "# CNN 모델 적용\n",
    "model = Sequential()\n",
    "model.add(Conv2D(32, kernel_size=3, input_shape=(150,150,3), activation='relu'))\n",
    "model.add(MaxPooling2D(pool_size=(2,2)))\n",
    "\n",
    "model.add(Conv2D(32, (3,3)))\n",
    "model.add(Activation('relu'))\n",
    "model.add(MaxPooling2D(pool_size=(2,2)))\n",
    "\n",
    "model.add(Conv2D(64, (3,3),activation='relu'))\n",
    "model.add(MaxPooling2D(pool_size=(2,2)))\n",
    "\n",
    "model.add(Flatten())\n",
    "model.add(Dense(64, activation='relu'))\n",
    "model.add(Dropout(0.5))\n",
    "model.add(Dense(1, activation='sigmoid'))\n",
    "\n",
    "model.summary()"
   ]
  },
  {
   "cell_type": "code",
   "execution_count": 7,
   "id": "024ec4a7",
   "metadata": {},
   "outputs": [
    {
     "name": "stdout",
     "output_type": "stream",
     "text": [
      "Epoch 1/200\n",
      "32/32 [==============================] - 4s 96ms/step - loss: 0.7094 - accuracy: 0.5000 - val_loss: 0.6914 - val_accuracy: 0.5000\n",
      "Epoch 2/200\n",
      "32/32 [==============================] - 2s 61ms/step - loss: 0.6937 - accuracy: 0.4750 - val_loss: 0.6905 - val_accuracy: 0.5400\n",
      "Epoch 3/200\n",
      "32/32 [==============================] - 2s 59ms/step - loss: 0.6923 - accuracy: 0.4812 - val_loss: 0.6925 - val_accuracy: 0.4600\n",
      "Epoch 4/200\n",
      "32/32 [==============================] - 2s 61ms/step - loss: 0.6879 - accuracy: 0.5688 - val_loss: 0.6843 - val_accuracy: 0.5000\n",
      "Epoch 5/200\n",
      "32/32 [==============================] - 2s 62ms/step - loss: 0.6853 - accuracy: 0.6125 - val_loss: 0.6771 - val_accuracy: 0.5000\n",
      "Epoch 6/200\n",
      "32/32 [==============================] - 2s 64ms/step - loss: 0.6673 - accuracy: 0.6187 - val_loss: 0.6606 - val_accuracy: 0.5000\n",
      "Epoch 7/200\n",
      "32/32 [==============================] - 2s 57ms/step - loss: 0.6372 - accuracy: 0.6313 - val_loss: 0.6038 - val_accuracy: 0.6400\n",
      "Epoch 8/200\n",
      "32/32 [==============================] - 2s 57ms/step - loss: 0.6116 - accuracy: 0.6938 - val_loss: 0.7449 - val_accuracy: 0.4600\n",
      "Epoch 9/200\n",
      "32/32 [==============================] - 2s 58ms/step - loss: 0.5746 - accuracy: 0.7063 - val_loss: 0.5254 - val_accuracy: 0.6800\n",
      "Epoch 10/200\n",
      "32/32 [==============================] - 2s 57ms/step - loss: 0.5811 - accuracy: 0.6812 - val_loss: 0.4340 - val_accuracy: 0.9000\n",
      "Epoch 11/200\n",
      "32/32 [==============================] - 2s 58ms/step - loss: 0.5495 - accuracy: 0.7688 - val_loss: 0.4347 - val_accuracy: 0.8800\n",
      "Epoch 12/200\n",
      "32/32 [==============================] - 2s 57ms/step - loss: 0.5051 - accuracy: 0.7500 - val_loss: 0.4514 - val_accuracy: 0.8000\n",
      "Epoch 13/200\n",
      "32/32 [==============================] - 2s 57ms/step - loss: 0.4304 - accuracy: 0.8562 - val_loss: 0.3269 - val_accuracy: 0.8600\n",
      "Epoch 14/200\n",
      "32/32 [==============================] - 2s 57ms/step - loss: 0.4414 - accuracy: 0.8313 - val_loss: 0.4940 - val_accuracy: 0.7200\n",
      "Epoch 15/200\n",
      "32/32 [==============================] - 2s 57ms/step - loss: 0.3830 - accuracy: 0.8625 - val_loss: 0.2413 - val_accuracy: 0.9800\n",
      "Epoch 16/200\n",
      "32/32 [==============================] - 2s 57ms/step - loss: 0.3755 - accuracy: 0.8375 - val_loss: 0.2110 - val_accuracy: 0.9600\n",
      "Epoch 17/200\n",
      "32/32 [==============================] - 2s 61ms/step - loss: 0.3819 - accuracy: 0.8125 - val_loss: 0.2909 - val_accuracy: 0.9000\n",
      "Epoch 18/200\n",
      "32/32 [==============================] - 2s 63ms/step - loss: 0.3462 - accuracy: 0.8625 - val_loss: 0.2615 - val_accuracy: 0.8400\n",
      "Epoch 19/200\n",
      "32/32 [==============================] - 2s 62ms/step - loss: 0.2912 - accuracy: 0.8500 - val_loss: 0.2302 - val_accuracy: 0.9200\n",
      "Epoch 20/200\n",
      "32/32 [==============================] - 2s 61ms/step - loss: 0.3423 - accuracy: 0.8625 - val_loss: 0.2817 - val_accuracy: 0.9200\n",
      "Epoch 21/200\n",
      "32/32 [==============================] - 2s 62ms/step - loss: 0.3116 - accuracy: 0.8375 - val_loss: 0.1899 - val_accuracy: 0.9800\n",
      "Epoch 22/200\n",
      "32/32 [==============================] - 2s 61ms/step - loss: 0.3040 - accuracy: 0.8625 - val_loss: 0.1410 - val_accuracy: 0.9800\n",
      "Epoch 23/200\n",
      "32/32 [==============================] - 2s 61ms/step - loss: 0.3143 - accuracy: 0.8500 - val_loss: 0.2194 - val_accuracy: 0.9000\n",
      "Epoch 24/200\n",
      "32/32 [==============================] - 2s 62ms/step - loss: 0.2585 - accuracy: 0.8750 - val_loss: 0.1130 - val_accuracy: 0.9600\n",
      "Epoch 25/200\n",
      "32/32 [==============================] - 2s 62ms/step - loss: 0.1966 - accuracy: 0.9125 - val_loss: 0.1092 - val_accuracy: 0.9600\n",
      "Epoch 26/200\n",
      "32/32 [==============================] - 2s 62ms/step - loss: 0.1861 - accuracy: 0.9312 - val_loss: 0.1463 - val_accuracy: 0.9400\n",
      "Epoch 27/200\n",
      "32/32 [==============================] - 2s 62ms/step - loss: 0.2404 - accuracy: 0.9062 - val_loss: 0.0967 - val_accuracy: 0.9800\n",
      "Epoch 28/200\n",
      "32/32 [==============================] - 2s 61ms/step - loss: 0.1973 - accuracy: 0.9250 - val_loss: 0.1453 - val_accuracy: 0.9400\n",
      "Epoch 29/200\n",
      "32/32 [==============================] - 2s 61ms/step - loss: 0.2156 - accuracy: 0.9125 - val_loss: 0.1188 - val_accuracy: 0.9600\n",
      "Epoch 30/200\n",
      "32/32 [==============================] - 2s 61ms/step - loss: 0.2166 - accuracy: 0.9187 - val_loss: 0.1198 - val_accuracy: 0.9800\n",
      "Epoch 31/200\n",
      "32/32 [==============================] - 2s 62ms/step - loss: 0.1641 - accuracy: 0.9500 - val_loss: 0.1862 - val_accuracy: 0.9200\n",
      "Epoch 32/200\n",
      "32/32 [==============================] - 2s 62ms/step - loss: 0.1903 - accuracy: 0.9250 - val_loss: 0.1538 - val_accuracy: 0.9400\n"
     ]
    }
   ],
   "source": [
    "# 컴파일 옵션 설정\n",
    "model.compile(loss='binary_crossentropy', \n",
    "              optimizer=optimizers.Adam(learning_rate=0.0002),\n",
    "             metrics=['accuracy'])\n",
    "\n",
    "# 조기 중단 설정\n",
    "early_stopping = EarlyStopping(patience=5)\n",
    "\n",
    "# 모델 실행\n",
    "history = model.fit(train_genarator, epochs=200, validation_data=test_generator,\n",
    "                   validation_steps=10, callbacks=[early_stopping])"
   ]
  },
  {
   "cell_type": "code",
   "execution_count": 8,
   "id": "be7d87ec",
   "metadata": {},
   "outputs": [
    {
     "data": {
      "image/png": "[encoded data removed]",
      "text/plain": [
       "<Figure size 640x480 with 1 Axes>"
      ]
     },
     "metadata": {},
     "output_type": "display_data"
    }
   ],
   "source": [
    "# 검증셋과 학습셋의 오차를 저장\n",
    "y_vloss = history.history['val_loss']\n",
    "y_loss = history.history['loss']\n",
    "\n",
    "#  그래프로 표현\n",
    "x_len = np.arange(len(y_loss))\n",
    "plt.plot(x_len, y_vloss, marker='.', c='red', label='test_loss')\n",
    "plt.plot(x_len, y_loss, marker='.', c='blue', label='train_loss')\n",
    "plt.legend()\n",
    "plt.xlabel('epochs')\n",
    "plt.ylabel('error')\n",
    "\n",
    "plt.show()"
   ]
  },
  {
   "cell_type": "code",
   "execution_count": null,
   "id": "291646f9",
   "metadata": {},
   "outputs": [],
   "source": []
  },
  {
   "cell_type": "code",
   "execution_count": null,
   "id": "4b648373",
   "metadata": {},
   "outputs": [],
   "source": []
  }
 ],
 "metadata": {
  "kernelspec": {
   "display_name": "py3.8",
   "language": "python",
   "name": "py3.8"
  },
  "language_info": {
   "codemirror_mode": {
    "name": "ipython",
    "version": 3
   },
   "file_extension": ".py",
   "mimetype": "text/x-python",
   "name": "python",
   "nbconvert_exporter": "python",
   "pygments_lexer": "ipython3",
   "version": "3.8.16"
  }
 },
 "nbformat": 4,
 "nbformat_minor": 5
}
