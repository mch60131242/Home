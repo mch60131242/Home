{
 "cells": [
  {
   "cell_type": "code",
   "execution_count": 15,
   "metadata": {},
   "outputs": [],
   "source": [
    "import sys\n",
    "import numpy as np\n",
    "import cv2\n",
    "import glob"
   ]
  },
  {
   "cell_type": "code",
   "execution_count": 22,
   "metadata": {},
   "outputs": [
    {
     "name": "stdout",
     "output_type": "stream",
     "text": [
      "(1, 1000)\n",
      "(1000,)\n",
      "404\n",
      "0.9166952\n",
      "(1, 1000)\n",
      "(1000,)\n",
      "823\n",
      "0.11824128\n"
     ]
    }
   ],
   "source": [
    "########### googLeNet 영상인식\n",
    "# 입력크기: 224 x 224\n",
    "# 컬러: BGR\n",
    "# 밝기평균값: (104, 117, 123)\n",
    "\n",
    "img_paths = glob.glob('../../opencv_module/googlenet_pb/fig/*.*')\n",
    "\n",
    "# img_path = '../../opencv_module/googlenet_pb/fig/beagle.jpg'\n",
    "\n",
    " ## Caffe model    \n",
    "model = './bvlc_googlenet.caffemodel'\n",
    "config = './deploy.prototxt'\n",
    "\n",
    "## ONNX model\n",
    "# model = './googlenet-12.onnx'\n",
    "# config = ''\n",
    "\n",
    "net = cv2.dnn.readNet(model, config)\n",
    "\n",
    "if net.empty():\n",
    "    print('net read failed')\n",
    "    sys.exit()\n",
    "    \n",
    "## class이름 \n",
    "classNames = []\n",
    "with open('./classification_classes_ILSVRC2012.txt', 'rt') as f:\n",
    "    classNames = f.read().rstrip('\\n').split('\\n')\n",
    "    \n",
    "idx = 0\n",
    "while True:\n",
    "    img = cv2.imread(img_paths[idx])\n",
    "\n",
    "    if img is None:\n",
    "        print('image read failed')\n",
    "        sys.exit()\n",
    "        \n",
    "    ##\n",
    "    # blobFromImage(image[, scalefactor[, size[, mean[, swapRB[, crop[, ddepth]]]]]]) -> retval\n",
    "    blob = cv2.dnn.blobFromImage(img, 1, (224, 224), (104, 117, 123), swapRB = False)\n",
    "    net.setInput(blob)\n",
    "    prob = net.forward()\n",
    "\n",
    "    print(prob.shape)\n",
    "    # print(prob)\n",
    "\n",
    "    ## \n",
    "    out = prob.flatten()\n",
    "    print(out.shape)\n",
    "\n",
    "    classid = np.argmax(out)\n",
    "    print(classid)\n",
    "    confidence = out[classid]\n",
    "    print(confidence)\n",
    "\n",
    "    text = f'{classNames[classid]}, {confidence*100:.2f}%'\n",
    "    cv2.putText(img, text, (10, 30), cv2.FONT_HERSHEY_SIMPLEX, 0.8, (0, 0, 255), 2, cv2.LINE_AA)\n",
    "\n",
    "    # len(classNames)\n",
    "    cv2.imshow('image', img)\n",
    "    \n",
    "    key = cv2.waitKey(3000)\n",
    "    \n",
    "    if key == 27 or key == ord('q'):\n",
    "        break\n",
    "    \n",
    "    idx += 1\n",
    "    if idx >= len(img_paths):\n",
    "        idx = 0\n",
    "  \n",
    "cv2.destroyAllWindows()"
   ]
  },
  {
   "cell_type": "code",
   "execution_count": null,
   "metadata": {},
   "outputs": [],
   "source": []
  }
 ],
 "metadata": {
  "kernelspec": {
   "display_name": "py3.8",
   "language": "python",
   "name": "python3"
  },
  "language_info": {
   "codemirror_mode": {
    "name": "ipython",
    "version": 3
   },
   "file_extension": ".py",
   "mimetype": "text/x-python",
   "name": "python",
   "nbconvert_exporter": "python",
   "pygments_lexer": "ipython3",
   "version": "3.8.16"
  },
  "orig_nbformat": 4
 },
 "nbformat": 4,
 "nbformat_minor": 2
}
