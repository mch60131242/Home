{
 "cells": [
  {
   "cell_type": "code",
   "execution_count": 2,
   "id": "f0065dd2",
   "metadata": {},
   "outputs": [],
   "source": [
    "# %load deep_import.py\n",
    "from tensorflow.keras.models import Sequential\n",
    "from tensorflow.keras.layers import Dense, Dropout, MaxPooling2D, Flatten, Conv2D\n",
    "from tensorflow.keras.callbacks import EarlyStopping, ModelCheckpoint\n",
    "from tensorflow.keras.utils import to_categorical\n",
    "\n",
    "import matplotlib.pyplot as plt\n",
    "import pandas as pd\n",
    "import numpy as np"
   ]
  },
  {
   "cell_type": "code",
   "execution_count": 3,
   "id": "1303d51c",
   "metadata": {},
   "outputs": [
    {
     "name": "stdout",
     "output_type": "stream",
     "text": [
      "Downloading data from https://www.cs.toronto.edu/~kriz/cifar-10-python.tar.gz\n",
      "170498071/170498071 [==============================] - 13s 0us/step\n"
     ]
    }
   ],
   "source": [
    "from tensorflow.keras.datasets import cifar10\n",
    "(x_train, y_train), (x_test, y_test) = cifar10.load_data()"
   ]
  },
  {
   "cell_type": "code",
   "execution_count": 4,
   "id": "ea5f1c40",
   "metadata": {},
   "outputs": [
    {
     "name": "stdout",
     "output_type": "stream",
     "text": [
      "(50000, 32, 32, 3) (10000, 32, 32, 3)\n"
     ]
    }
   ],
   "source": [
    "print(x_train.shape, x_test.shape)"
   ]
  },
  {
   "cell_type": "code",
   "execution_count": 9,
   "id": "1ab8c404",
   "metadata": {},
   "outputs": [
    {
     "data": {
      "image/png": "[encoded data removed]",
      "text/plain": [
       "<Figure size 640x480 with 1 Axes>"
      ]
     },
     "metadata": {},
     "output_type": "display_data"
    }
   ],
   "source": [
    "plt.imshow(x_train[10000])\n",
    "plt.show()"
   ]
  },
  {
   "cell_type": "code",
   "execution_count": null,
   "id": "524c682d",
   "metadata": {},
   "outputs": [],
   "source": [
    "for x in x_train[0]:\n",
    "    for i in x:\n",
    "        for j in i:\n",
    "            print('{:3d}'.format(j), end='')\n",
    "        print()"
   ]
  },
  {
   "cell_type": "code",
   "execution_count": null,
   "id": "bc71f694",
   "metadata": {},
   "outputs": [],
   "source": [
    "# 데이터 정규화\n",
    "x_train = x_train.astype('float32') / 255\n",
    "x_test = x_test.astype('float32') / 255\n",
    "\n",
    "print(x_train.dtype, x_test.dtype)"
   ]
  },
  {
   "cell_type": "code",
   "execution_count": 18,
   "id": "72e74789",
   "metadata": {},
   "outputs": [
    {
     "name": "stdout",
     "output_type": "stream",
     "text": [
      "[0 1 2 3 4 5 6 7 8 9]\n",
      "(50000, 32, 32, 3)\n"
     ]
    }
   ],
   "source": [
    "# 타겟의 클래스 개수 확인\n",
    "print(np.unique(y_train))   # 10 의 클래스 확인\n",
    "\n",
    "# x 데이터의 shape 확인\n",
    "print(x_train.shape)"
   ]
  },
  {
   "cell_type": "code",
   "execution_count": 29,
   "id": "d385f3e0",
   "metadata": {},
   "outputs": [
    {
     "name": "stdout",
     "output_type": "stream",
     "text": [
      "Model: \"sequential_5\"\n",
      "_________________________________________________________________\n",
      " Layer (type)                Output Shape              Param #   \n",
      "=================================================================\n",
      " conv2d_13 (Conv2D)          (None, 30, 30, 64)        1792      \n",
      "                                                                 \n",
      " conv2d_14 (Conv2D)          (None, 28, 28, 128)       73856     \n",
      "                                                                 \n",
      " max_pooling2d_6 (MaxPooling  (None, 14, 14, 128)      0         \n",
      " 2D)                                                             \n",
      "                                                                 \n",
      " dropout_9 (Dropout)         (None, 14, 14, 128)       0         \n",
      "                                                                 \n",
      " conv2d_15 (Conv2D)          (None, 14, 14, 128)       147584    \n",
      "                                                                 \n",
      " max_pooling2d_7 (MaxPooling  (None, 7, 7, 128)        0         \n",
      " 2D)                                                             \n",
      "                                                                 \n",
      " max_pooling2d_8 (MaxPooling  (None, 3, 3, 128)        0         \n",
      " 2D)                                                             \n",
      "                                                                 \n",
      " flatten_4 (Flatten)         (None, 1152)              0         \n",
      "                                                                 \n",
      " dense_8 (Dense)             (None, 512)               590336    \n",
      "                                                                 \n",
      " dropout_10 (Dropout)        (None, 512)               0         \n",
      "                                                                 \n",
      " dense_9 (Dense)             (None, 10)                5130      \n",
      "                                                                 \n",
      "=================================================================\n",
      "Total params: 818,698\n",
      "Trainable params: 818,698\n",
      "Non-trainable params: 0\n",
      "_________________________________________________________________\n"
     ]
    }
   ],
   "source": [
    "#  모델 설정\n",
    "model = Sequential()\n",
    "# 커널사이즈 : (3,3), 커널 개수 : 64, padding : valid, strids : 1\n",
    "model.add(Conv2D(64, (3,3), input_shape = (32, 32, 3), activation='relu')) \n",
    "# 커널사이즈 : (3,3), 커널 개수 : 128, padding : valid, strids : 2\n",
    "# model.add(Conv2D(128, (3,3),strides=2, activation='relu'))\n",
    "model.add(Conv2D(128, (3,3),activation='relu'))\n",
    "# Maxpooling size -> ( 2, 2)\n",
    "model.add(MaxPooling2D(pool_size=(2,2)))\n",
    "# Dropout (20%)\n",
    "model.add(Dropout(0.3))\n",
    "# 커널사이즈 : (3,3), 커널 개수 : 128, padding : valid, strids : 2\n",
    "model.add(Conv2D(128, (3,3), padding='same', activation='relu'))\n",
    "model.add(MaxPooling2D(pool_size=(2,2)))\n",
    "# Maxpooling size -> ( 2, 2)\n",
    "model.add(MaxPooling2D(pool_size=(2,2)))\n",
    "model.add(Flatten())\n",
    "model.add(Dense(512, activation='relu'))\n",
    "model.add(Dropout(0.4))\n",
    "model.add(Dense(10, activation='softmax'))\n",
    "model.summary()"
   ]
  },
  {
   "cell_type": "code",
   "execution_count": 30,
   "id": "7faf464a",
   "metadata": {},
   "outputs": [
    {
     "name": "stdout",
     "output_type": "stream",
     "text": [
      "\n",
      "Epoch 1: val_loss improved from inf to 1.37580, saving model to ./data/model\\CIFA10_CNN.hdf5\n",
      "\n",
      "Epoch 2: val_loss improved from 1.37580 to 1.11931, saving model to ./data/model\\CIFA10_CNN.hdf5\n",
      "\n",
      "Epoch 3: val_loss improved from 1.11931 to 0.98292, saving model to ./data/model\\CIFA10_CNN.hdf5\n",
      "\n",
      "Epoch 4: val_loss improved from 0.98292 to 0.88222, saving model to ./data/model\\CIFA10_CNN.hdf5\n",
      "\n",
      "Epoch 5: val_loss improved from 0.88222 to 0.81538, saving model to ./data/model\\CIFA10_CNN.hdf5\n",
      "\n",
      "Epoch 6: val_loss improved from 0.81538 to 0.79746, saving model to ./data/model\\CIFA10_CNN.hdf5\n",
      "\n",
      "Epoch 7: val_loss improved from 0.79746 to 0.74590, saving model to ./data/model\\CIFA10_CNN.hdf5\n",
      "\n",
      "Epoch 8: val_loss improved from 0.74590 to 0.72658, saving model to ./data/model\\CIFA10_CNN.hdf5\n",
      "\n",
      "Epoch 9: val_loss improved from 0.72658 to 0.70714, saving model to ./data/model\\CIFA10_CNN.hdf5\n",
      "\n",
      "Epoch 10: val_loss did not improve from 0.70714\n",
      "\n",
      "Epoch 11: val_loss improved from 0.70714 to 0.68922, saving model to ./data/model\\CIFA10_CNN.hdf5\n",
      "\n",
      "Epoch 12: val_loss did not improve from 0.68922\n",
      "\n",
      "Epoch 13: val_loss did not improve from 0.68922\n",
      "\n",
      "Epoch 14: val_loss improved from 0.68922 to 0.67847, saving model to ./data/model\\CIFA10_CNN.hdf5\n",
      "\n",
      "Epoch 15: val_loss did not improve from 0.67847\n",
      "\n",
      "Epoch 16: val_loss did not improve from 0.67847\n",
      "\n",
      "Epoch 17: val_loss did not improve from 0.67847\n",
      "\n",
      "Epoch 18: val_loss did not improve from 0.67847\n",
      "\n",
      "Epoch 19: val_loss did not improve from 0.67847\n"
     ]
    }
   ],
   "source": [
    "# 모델의 실행 옵션 설정\n",
    "model.compile(loss='sparse_categorical_crossentropy', optimizer='adam',\n",
    "             metrics=['accuracy'])\n",
    "\n",
    "# 모델 최적화 설정\n",
    "modelpath = './data/model/CIFA10_CNN.hdf5'\n",
    "checkpointer = ModelCheckpoint(filepath=modelpath, monitor='val_loss',\n",
    "                              save_best_only=True, verbose=1)\n",
    "early_stopping = EarlyStopping(monitor='val_loss', patience=5)\n",
    "\n",
    "#  모델 학습 실행\n",
    "history = model.fit(x_train, y_train, validation_split=0.25, epochs=1000,\n",
    "                   batch_size=200, verbose=0, \n",
    "                    callbacks=[early_stopping, checkpointer])"
   ]
  },
  {
   "cell_type": "code",
   "execution_count": 31,
   "id": "928a4b30",
   "metadata": {},
   "outputs": [
    {
     "data": {
      "image/png": "[encoded data removed]",
      "text/plain": [
       "<Figure size 640x480 with 1 Axes>"
      ]
     },
     "metadata": {},
     "output_type": "display_data"
    }
   ],
   "source": [
    "# 검증셋과 학습셋의 오차를 저장\n",
    "y_vloss = history.history['val_loss']\n",
    "y_loss = history.history['loss']\n",
    "\n",
    "#  그래프로 표현\n",
    "x_len = np.arange(len(y_loss))\n",
    "plt.plot(x_len, y_vloss, marker='.', c='red', label='test_loss')\n",
    "plt.plot(x_len, y_loss, marker='.', c='blue', label='train_loss')\n",
    "plt.legend()\n",
    "plt.xlabel('epochs')\n",
    "plt.ylabel('error')\n",
    "\n",
    "plt.show()"
   ]
  },
  {
   "cell_type": "code",
   "execution_count": 32,
   "id": "0d198ef8",
   "metadata": {},
   "outputs": [
    {
     "name": "stdout",
     "output_type": "stream",
     "text": [
      "학습 정확도 :  0.8818933367729187\n",
      "검증 정확도 :  0.7782400250434875\n",
      "313/313 [==============================] - 6s 19ms/step - loss: 0.7574 - accuracy: 0.7685\n",
      "테스트 정확도 :  0.7684999704360962\n"
     ]
    }
   ],
   "source": [
    "# 학습 정확도, 검증 정확도, 테스트 정확도 출력\n",
    "print(\"학습 정확도 : \",history.history['accuracy'][-1])\n",
    "print(\"검증 정확도 : \",history.history['val_accuracy'][-1])\n",
    "print(\"테스트 정확도 : \", model.evaluate(x_test, y_test)[1])\n"
   ]
  },
  {
   "cell_type": "code",
   "execution_count": 65,
   "id": "d7f02bab",
   "metadata": {},
   "outputs": [
    {
     "data": {
      "image/png": "[encoded data removed]",
      "text/plain": [
       "<Figure size 640x480 with 1 Axes>"
      ]
     },
     "metadata": {},
     "output_type": "display_data"
    }
   ],
   "source": [
    "plt.imshow(x_test[2000])\n",
    "plt.show()"
   ]
  },
  {
   "cell_type": "code",
   "execution_count": 63,
   "id": "6d5e5f23",
   "metadata": {},
   "outputs": [
    {
     "name": "stdout",
     "output_type": "stream",
     "text": [
      "1/1 [==============================] - 0s 18ms/step\n"
     ]
    }
   ],
   "source": [
    "predict_class = model.predict(x_test[1000].reshape(1,32,32,3))"
   ]
  },
  {
   "cell_type": "code",
   "execution_count": 61,
   "id": "1e320b31",
   "metadata": {},
   "outputs": [
    {
     "data": {
      "text/plain": [
       "6"
      ]
     },
     "execution_count": 61,
     "metadata": {},
     "output_type": "execute_result"
    }
   ],
   "source": [
    "predict_class.argmax()"
   ]
  },
  {
   "cell_type": "code",
   "execution_count": 64,
   "id": "a020ecb7",
   "metadata": {},
   "outputs": [
    {
     "data": {
      "text/plain": [
       "array([[7.0569516e-11, 1.1370446e-11, 4.8541820e-06, 1.4478387e-02,\n",
       "        1.1640352e-06, 9.8550445e-01, 1.7861317e-06, 9.3929339e-06,\n",
       "        1.4947640e-09, 2.2351976e-08]], dtype=float32)"
      ]
     },
     "execution_count": 64,
     "metadata": {},
     "output_type": "execute_result"
    }
   ],
   "source": [
    "predict_class"
   ]
  }
 ],
 "metadata": {
  "kernelspec": {
   "display_name": "py3.8",
   "language": "python",
   "name": "py3.8"
  },
  "language_info": {
   "codemirror_mode": {
    "name": "ipython",
    "version": 3
   },
   "file_extension": ".py",
   "mimetype": "text/x-python",
   "name": "python",
   "nbconvert_exporter": "python",
   "pygments_lexer": "ipython3",
   "version": "3.8.16"
  }
 },
 "nbformat": 4,
 "nbformat_minor": 5
}
