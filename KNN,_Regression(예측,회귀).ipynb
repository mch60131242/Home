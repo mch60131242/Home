{
  "nbformat": 4,
  "nbformat_minor": 0,
  "metadata": {
    "colab": {
      "provenance": [],
      "authorship_tag": "ABX9TyPuydVLbePao7X95YstfKmH",
      "include_colab_link": true
    },
    "kernelspec": {
      "name": "python3",
      "display_name": "Python 3"
    },
    "language_info": {
      "name": "python"
    }
  },
  "cells": [
    {
      "cell_type": "markdown",
      "metadata": {
        "id": "view-in-github",
        "colab_type": "text"
      },
      "source": [
        "<a href=\"https://colab.research.google.com/github/mch60131242/Home/blob/main/KNN%2C_Regression(%EC%98%88%EC%B8%A1%2C%ED%9A%8C%EA%B7%80).ipynb\" target=\"_parent\"><img src=\"https://colab.research.google.com/assets/colab-badge.svg\" alt=\"Open In Colab\"/></a>"
      ]
    },
    {
      "cell_type": "code",
      "execution_count": 25,
      "metadata": {
        "id": "uXswgKwtCkNU"
      },
      "outputs": [],
      "source": [
        "import numpy as np\n",
        "# 지도학습은 정답을 제공하고 그것을 분류하게 하는 문제\n",
        "# 강화학습을 배우지 않는 이유는 지금 단계에서 너무 어려워서 강화학습은 지금의 학습 레벨의 다음 단계 신경망의 이해 인공지능의 이해\n",
        "# 예측오차와 평균오차, 예측선\n",
        "  "
      ]
    },
    {
      "cell_type": "code",
      "source": [
        "perch_length = np.array([8.4, 13.7, 15.0, 16.2, 17.4, 18.0, 18.7, 19.0, 19.6, 20.0, 21.0,\n",
        "       21.0, 21.0, 21.3, 22.0, 22.0, 22.0, 22.0, 22.0, 22.5, 22.5, 22.7,\n",
        "       23.0, 23.5, 24.0, 24.0, 24.6, 25.0, 25.6, 26.5, 27.3, 27.5, 27.5,\n",
        "       27.5, 28.0, 28.7, 30.0, 32.8, 34.5, 35.0, 36.5, 36.0, 37.0, 37.0,\n",
        "       39.0, 39.0, 39.0, 40.0, 40.0, 40.0, 40.0, 42.0, 43.0, 43.0, 43.5,\n",
        "       44.0])\n",
        "perch_weight = np.array([5.9, 32.0, 40.0, 51.5, 70.0, 100.0, 78.0, 80.0, 85.0, 85.0, 110.0,\n",
        "       115.0, 125.0, 130.0, 120.0, 120.0, 130.0, 135.0, 110.0, 130.0,\n",
        "       150.0, 145.0, 150.0, 170.0, 225.0, 145.0, 188.0, 180.0, 197.0,\n",
        "       218.0, 300.0, 260.0, 265.0, 250.0, 250.0, 300.0, 320.0, 514.0,\n",
        "       556.0, 840.0, 685.0, 700.0, 700.0, 690.0, 900.0, 650.0, 820.0,\n",
        "       850.0, 900.0, 1015.0, 820.0, 1100.0, 1000.0, 1100.0, 1000.0,\n",
        "       1000.0])"
      ],
      "metadata": {
        "id": "QCvS3XuiCtkZ"
      },
      "execution_count": 2,
      "outputs": []
    },
    {
      "cell_type": "code",
      "source": [
        "print(perch_length.shape, perch_weight.shape)"
      ],
      "metadata": {
        "colab": {
          "base_uri": "https://localhost:8080/"
        },
        "id": "quQQ8tOnC4nd",
        "outputId": "ee694234-7587-4ee8-c7fa-4854bd50378a"
      },
      "execution_count": 3,
      "outputs": [
        {
          "output_type": "stream",
          "name": "stdout",
          "text": [
            "(56,) (56,)\n"
          ]
        }
      ]
    },
    {
      "cell_type": "code",
      "source": [
        "import matplotlib.pyplot as plt\n",
        "plt.scatter(perch_length,perch_weight)\n",
        "plt.show()"
      ],
      "metadata": {
        "colab": {
          "base_uri": "https://localhost:8080/",
          "height": 265
        },
        "id": "bMLF7z-1DOf8",
        "outputId": "480c646a-42cb-44e9-cde7-bdb4079efb65"
      },
      "execution_count": 4,
      "outputs": [
        {
          "output_type": "display_data",
          "data": {
            "text/plain": [
              "<Figure size 432x288 with 1 Axes>"
            ],
            "image/png": "[encoded data removed]"
          },
          "metadata": {
            "needs_background": "light"
          }
        }
      ]
    },
    {
      "cell_type": "code",
      "source": [
        "from sklearn.model_selection import train_test_split\n",
        "train_input, test_input, train_target, test_target = train_test_split(perch_length,perch_weight, random_state=42)"
      ],
      "metadata": {
        "id": "lxFeCd5KDOcE"
      },
      "execution_count": 5,
      "outputs": []
    },
    {
      "cell_type": "code",
      "source": [
        "print(train_input.shape, test_input.shape ,train_target.shape, test_target.shape)  ## 현재 지금 모든 배열이 1차원 배열 하지만 sklearn에게는 1개의 열이 존재하는 2차원 배열로 제공해야한다."
      ],
      "metadata": {
        "colab": {
          "base_uri": "https://localhost:8080/"
        },
        "id": "Tf576WVWEWi8",
        "outputId": "fd6d214b-dc95-4105-fac5-9e98aed3ff8a"
      },
      "execution_count": 6,
      "outputs": [
        {
          "output_type": "stream",
          "name": "stdout",
          "text": [
            "(42,) (14,) (42,) (14,)\n"
          ]
        }
      ]
    },
    {
      "cell_type": "code",
      "source": [
        "train_input = train_input.reshape(-1,1) # reshape(행의수,열의수)\n",
        "test_input = test_input.reshape(-1,1) # 열이 하나인 형태로 만들어줘라\n"
      ],
      "metadata": {
        "id": "Oq_G3RFLEnjD"
      },
      "execution_count": 16,
      "outputs": []
    },
    {
      "cell_type": "code",
      "source": [
        "from sklearn.neighbors import KNeighborsRegressor\n",
        "\n",
        "knr = KNeighborsRegressor() \n",
        "knr.fit(train_input,train_target)\n",
        "knr.score(test_input, test_target)"
      ],
      "metadata": {
        "colab": {
          "base_uri": "https://localhost:8080/"
        },
        "id": "ZomxNg8GroJS",
        "outputId": "a8ef017d-1840-4bb8-d4fc-3046fabbbe2f"
      },
      "execution_count": 24,
      "outputs": [
        {
          "output_type": "execute_result",
          "data": {
            "text/plain": [
              "0.992809406101064"
            ]
          },
          "metadata": {},
          "execution_count": 24
        }
      ]
    },
    {
      "cell_type": "code",
      "source": [
        "from sklearn.metrics import mean_absolute_error  ##metrics는 평가지표를 모아두는곳 mean_absoulte_error <- 평균 절대값 오차\n",
        "\n",
        "test_prediction = knr.predict(test_input)\n",
        "mae = mean_absolute_error(test_target, test_prediction)  ## 오차가 19 정도\n",
        "print(mae)\n"
      ],
      "metadata": {
        "colab": {
          "base_uri": "https://localhost:8080/"
        },
        "id": "jnlBOxjI2uL4",
        "outputId": "26ea5d87-abbc-423b-81de-03ff004173a7"
      },
      "execution_count": 26,
      "outputs": [
        {
          "output_type": "stream",
          "name": "stdout",
          "text": [
            "19.157142857142862\n"
          ]
        }
      ]
    },
    {
      "cell_type": "code",
      "source": [
        "knr.score(train_input, train_target)\n",
        "knr.score(test_input, test_target)   ## 일반적으로 트레인보다 test가 더 낮아야 정상 이것은 훈련세트의 과대적합을 이야기한다. overfit 즉 훈련세트에만 잘 맞는 모델이라 실전 투입에 문제가 생길 수 있다.\n",
        "# 모델이너무 단순하여 문제가 생긴다\n"
      ],
      "metadata": {
        "colab": {
          "base_uri": "https://localhost:8080/"
        },
        "id": "wZGNZV3G7mrg",
        "outputId": "254c0bf7-89f2-4eca-e56c-35e06ab0f905"
      },
      "execution_count": 27,
      "outputs": [
        {
          "output_type": "execute_result",
          "data": {
            "text/plain": [
              "0.992809406101064"
            ]
          },
          "metadata": {},
          "execution_count": 27
        }
      ]
    },
    {
      "cell_type": "code",
      "source": [
        "#"
      ],
      "metadata": {
        "id": "zMUPFpLp8pqn"
      },
      "execution_count": null,
      "outputs": []
    },
    {
      "cell_type": "code",
      "source": [
        "knr.n_neighbors= 3\n",
        "knr.fit(train_input, train_target)\n",
        "knr.score(train_input, train_target)\n",
        "\n",
        "knr.score(test_input, test_target)\n",
        "print(knr.score(test_input, test_target))\n"
      ],
      "metadata": {
        "colab": {
          "base_uri": "https://localhost:8080/"
        },
        "id": "KH8U7_O3ANlz",
        "outputId": "608c84b8-d63b-4a2c-b879-851607c4eb19"
      },
      "execution_count": 32,
      "outputs": [
        {
          "output_type": "stream",
          "name": "stdout",
          "text": [
            "0.9746459963987609\n"
          ]
        }
      ]
    },
    {
      "cell_type": "code",
      "source": [
        "# k-최근접 이웃 회귀 객체를 만듭니다\n",
        "knr = KNeighborsRegressor()\n",
        "# 5에서 45까지 x 좌표를 만듭니다\n",
        "x = np.arange(5, 45).reshape(-1, 1)\n",
        "# n = 1, 5, 10일 때 예측 결과를 그래프로 그립니다.\n",
        "for n in [1, 5, 10]:\n",
        "    # 모델 훈련\n",
        "    knr.n_neighbors = n\n",
        "    knr.fit(train_input, train_target)\n",
        "    # 지정한 범위 x에 대한 예측 구하기 \n",
        "    #prediction = knr.predict(x)\n",
        "    #print(x)\n",
        "    #print(prediction)\n",
        "    # 훈련 세트와 예측 결과 그래프 그리기\n",
        "    plt.scatter(train_input, train_target)\n",
        "    plt.plot(x, prediction)\n",
        "    #plt.title('n_neighbors = {}'.format(n))    \n",
        "    #plt.xlabel('length')\n",
        "    #plt.ylabel('weight')\n",
        "    plt.show()"
      ],
      "metadata": {
        "colab": {
          "base_uri": "https://localhost:8080/",
          "height": 761
        },
        "id": "os6rhBhfC2Cx",
        "outputId": "bcf4c2e4-a492-401b-86f9-013f60cc136d"
      },
      "execution_count": 55,
      "outputs": [
        {
          "output_type": "display_data",
          "data": {
            "text/plain": [
              "<Figure size 432x288 with 1 Axes>"
            ],
            "image/png": "[encoded data removed]"
          },
          "metadata": {
            "needs_background": "light"
          }
        },
        {
          "output_type": "display_data",
          "data": {
            "text/plain": [
              "<Figure size 432x288 with 1 Axes>"
            ],
            "image/png": "[encoded data removed]"
          },
          "metadata": {
            "needs_background": "light"
          }
        },
        {
          "output_type": "display_data",
          "data": {
            "text/plain": [
              "<Figure size 432x288 with 1 Axes>"
            ],
            "image/png": "[encoded data removed]"
          },
          "metadata": {
            "needs_background": "light"
          }
        }
      ]
    }
  ]
}